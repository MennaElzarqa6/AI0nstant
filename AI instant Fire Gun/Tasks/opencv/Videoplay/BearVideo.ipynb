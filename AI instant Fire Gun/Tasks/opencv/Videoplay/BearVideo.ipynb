{
 "cells": [
  {
   "cell_type": "markdown",
   "metadata": {},
   "source": [
    "### - **import libraries**"
   ]
  },
  {
   "cell_type": "code",
   "execution_count": 12,
   "metadata": {},
   "outputs": [],
   "source": [
    "import cv2 as cv\n",
    "import numpy as np\n",
    "#ffpyplayer for playing audio\n",
    "from ffpyplayer.player import MediaPlayer\n",
    "import threading\n"
   ]
  },
  {
   "cell_type": "markdown",
   "metadata": {},
   "source": [
    "## Method 1 :\n",
    "### using opencv & pydub (ffpyplayer)\n",
    "###### **Note:** Requires separate handling of audio"
   ]
  },
  {
   "cell_type": "code",
   "execution_count": 13,
   "metadata": {},
   "outputs": [],
   "source": [
    "#open video file\n",
    "path = \"D:/AI/AI instant Fire Gun/sessions/OPENCV/Sound.mp4\"\n",
    "\n",
    "# Initialize video capture\n",
    "cap = cv.VideoCapture(path)\n",
    "\n",
    "#Initialize audiob player\n",
    "player = MediaPlayer(path)\n",
    "\n",
    "#Flag to indicate if audio should stop\n",
    "audio_stop_flag = threading.Event()\n",
    "\n",
    "#Function to play audio \n",
    "def play_audio():\n",
    "    while True:\n",
    "        audio, val = player.get_frame()\n",
    "        if val =='eof' and audio is not None:\n",
    "            # Handle audio playback here\n",
    "            pass  # You can integrate audio playback logic here if needed\n",
    "        else : \n",
    "            break\n",
    "\n",
    "#start audio playblack in a separate thread \n",
    "audio_thread = threading.Thread(target=play_audio)\n",
    "audio_thread.start()\n",
    "\n",
    "#Video playback\n",
    "while cap.isOpened():\n",
    "    ret,frame = cap.read()\n",
    "    if not ret:\n",
    "        break\n",
    "    \n",
    "    #Resize the frame to fit the window while maintaing aspect ratio\n",
    "    hight, width = frame.shape[:2]\n",
    "    window_width = 800\n",
    "    window_hight = int((window_width/width)*hight)\n",
    "\n",
    "    resized_frame = cv.resize(frame,(window_width,window_hight))\n",
    "\n",
    "    #process the frame \n",
    "    cv.imshow('Video Frame', resized_frame)\n",
    "\n",
    "    if cv.waitKey(1) & 0xFF == ord('q'): # 1 ==> 60 sec waiting then break or click q to quit video\n",
    "        break   \n",
    "\n",
    "# Release the capture and close windows\n",
    "cap.release()\n",
    "cv.destroyAllWindows()\n",
    "\n",
    "#Signal Audio thread to stop \n",
    "audio_stop_flag.set()\n",
    "#Wait for audio to finish playing\n",
    "audio_thread.join()"
   ]
  },
  {
   "cell_type": "markdown",
   "metadata": {},
   "source": [
    "### **read audio file**"
   ]
  },
  {
   "cell_type": "code",
   "execution_count": 14,
   "metadata": {},
   "outputs": [],
   "source": [
    "# from pydub import AudioSegment\n",
    "# # Load the audio file\n",
    "# path = \"D:/AI/AI instant Fire Gun/sessions/OPENCV/bear.mp4\"\n",
    "# audio = AudioSegment.from_file(path)\n",
    "\n",
    "# # Play the audio (requires pydub's playback module)\n",
    "# from pydub.playback import play\n",
    "# audio = AudioSegment.from_file(path)\n",
    "# #play audio \n",
    "# play(audio)\n"
   ]
  }
 ],
 "metadata": {
  "kernelspec": {
   "display_name": "Python 3",
   "language": "python",
   "name": "python3"
  },
  "language_info": {
   "codemirror_mode": {
    "name": "ipython",
    "version": 3
   },
   "file_extension": ".py",
   "mimetype": "text/x-python",
   "name": "python",
   "nbconvert_exporter": "python",
   "pygments_lexer": "ipython3",
   "version": "3.12.2"
  }
 },
 "nbformat": 4,
 "nbformat_minor": 2
}
