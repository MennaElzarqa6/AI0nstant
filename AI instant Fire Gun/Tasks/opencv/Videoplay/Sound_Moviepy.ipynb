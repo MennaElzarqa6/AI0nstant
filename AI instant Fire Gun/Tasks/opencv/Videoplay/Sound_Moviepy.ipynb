{
 "cells": [
  {
   "cell_type": "code",
   "execution_count": 1,
   "metadata": {},
   "outputs": [],
   "source": [
    "from moviepy.editor import VideoFileClip\n",
    "# for interactive control over the video clip : EX, quit video manually\n",
    "import pygame \n",
    "from pygame.locals import QUIT\n",
    "import cv2 as cv \n"
   ]
  },
  {
   "cell_type": "code",
   "execution_count": 2,
   "metadata": {},
   "outputs": [],
   "source": [
    "# Path to the MP4 file\n",
    "video_path = \"D:/AI/AI instant Fire Gun/sessions/OPENCV/Sound.mp4\""
   ]
  },
  {
   "cell_type": "code",
   "execution_count": 3,
   "metadata": {},
   "outputs": [],
   "source": [
    "# play_video(video_path)"
   ]
  },
  {
   "cell_type": "code",
   "execution_count": 4,
   "metadata": {},
   "outputs": [],
   "source": [
    "# Load the video file\n",
    "clip = VideoFileClip(video_path)"
   ]
  },
  {
   "cell_type": "code",
   "execution_count": 5,
   "metadata": {},
   "outputs": [],
   "source": [
    "#Resize the video Clip\n",
    "new_width = 800\n",
    "clip_resized = clip.resize(width=new_width)"
   ]
  },
  {
   "cell_type": "code",
   "execution_count": 6,
   "metadata": {},
   "outputs": [],
   "source": [
    "# Play the resized video\n",
    "clip_resized.preview()\n",
    "VideoFileClip.close(clip_resized)"
   ]
  },
  {
   "cell_type": "code",
   "execution_count": 7,
   "metadata": {},
   "outputs": [],
   "source": [
    "# def play_video(video_path):\n",
    "#     # initalize pygame\n",
    "#     pygame.init()\n",
    "\n",
    "#     #load the video \n",
    "#     clip = VideoFileClip(video_path)\n",
    "#     screen = pygame.display.set_mode(clip.size)\n",
    "\n",
    "#     #create a pygame surface from the video frames\n",
    "#     for frame in clip.iter_frames(fps=clip.fps, dtype='uint8'):\n",
    "#         for event in pygame.event.get():\n",
    "#             if event.type == QUIT:\n",
    "#                 pygame.quit()\n",
    "#                 return\n",
    "#         # Display the frame \n",
    "#         frame_surface = pygame.surfarray.make_surface(frame.swapaxes(0,1))\n",
    "#         screen.blit(frame_surface,(0,0))\n",
    "#         pygame.display.update()\n",
    "#     pygame.quit()"
   ]
  }
 ],
 "metadata": {
  "kernelspec": {
   "display_name": "Python 3",
   "language": "python",
   "name": "python3"
  },
  "language_info": {
   "codemirror_mode": {
    "name": "ipython",
    "version": 3
   },
   "file_extension": ".py",
   "mimetype": "text/x-python",
   "name": "python",
   "nbconvert_exporter": "python",
   "pygments_lexer": "ipython3",
   "version": "3.12.2"
  }
 },
 "nbformat": 4,
 "nbformat_minor": 2
}
