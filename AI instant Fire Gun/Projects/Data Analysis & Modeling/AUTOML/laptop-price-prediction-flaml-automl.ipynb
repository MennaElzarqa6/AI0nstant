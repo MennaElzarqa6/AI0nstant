{
 "cells": [
  {
   "cell_type": "markdown",
   "id": "719b7de7",
   "metadata": {
    "papermill": {
     "duration": 0.007368,
     "end_time": "2024-10-15T00:42:32.391328",
     "exception": false,
     "start_time": "2024-10-15T00:42:32.383960",
     "status": "completed"
    },
    "tags": []
   },
   "source": [
    "# FLAML: Fast and Lightweight AutoML\n",
    "\n",
    "FLAML (Fast and Lightweight AutoML) is an open-source library designed to make automated machine learning accessible and efficient. It focuses on providing a user-friendly interface for model selection and hyperparameter tuning, enabling users to build machine learning models quickly and effectively.\n",
    "\n",
    "## Key Features\n",
    "\n",
    "- **Ease of Use**: FLAML allows users to perform AutoML tasks with minimal configuration, making it suitable for both beginners and experienced data scientists.\n",
    "  \n",
    "- **Efficiency**: The library is optimized for speed and memory usage, allowing it to search for the best model configurations without excessive resource consumption.\n",
    "  \n",
    "- **Handling of Categorical Data**: FLAML can automatically handle categorical features, requiring no extensive preprocessing such as one-hot encoding or label encoding.\n",
    "\n",
    "- **Flexible Task Support**: It supports various machine learning tasks, including regression, classification, and time-series forecasting.\n",
    "\n",
    "- **Hyperparameter Tuning**: FLAML includes advanced techniques for hyperparameter optimization, ensuring that the selected model performs at its best.\n",
    "\n",
    "## Installation\n",
    "\n",
    "To install FLAML, use pip:\n",
    "\n",
    "```bash\n",
    "pip install flaml\n",
    "```"
   ]
  },
  {
   "cell_type": "code",
   "execution_count": 1,
   "id": "ff2a05ea",
   "metadata": {
    "execution": {
     "iopub.execute_input": "2024-10-15T00:42:32.405518Z",
     "iopub.status.busy": "2024-10-15T00:42:32.405088Z",
     "iopub.status.idle": "2024-10-15T00:42:48.836382Z",
     "shell.execute_reply": "2024-10-15T00:42:48.835122Z"
    },
    "papermill": {
     "duration": 16.441553,
     "end_time": "2024-10-15T00:42:48.839205",
     "exception": false,
     "start_time": "2024-10-15T00:42:32.397652",
     "status": "completed"
    },
    "tags": []
   },
   "outputs": [
    {
     "name": "stdout",
     "output_type": "stream",
     "text": [
      "Collecting flaml\r\n",
      "  Downloading FLAML-2.3.1-py3-none-any.whl.metadata (16 kB)\r\n",
      "Requirement already satisfied: NumPy>=1.17 in /opt/conda/lib/python3.10/site-packages (from flaml) (1.26.4)\r\n",
      "Downloading FLAML-2.3.1-py3-none-any.whl (313 kB)\r\n",
      "\u001b[2K   \u001b[90m━━━━━━━━━━━━━━━━━━━━━━━━━━━━━━━━━━━━━━━━\u001b[0m \u001b[32m313.3/313.3 kB\u001b[0m \u001b[31m5.5 MB/s\u001b[0m eta \u001b[36m0:00:00\u001b[0m\r\n",
      "\u001b[?25hInstalling collected packages: flaml\r\n",
      "Successfully installed flaml-2.3.1\r\n"
     ]
    }
   ],
   "source": [
    "!pip install flaml"
   ]
  },
  {
   "cell_type": "code",
   "execution_count": 2,
   "id": "d13cb983",
   "metadata": {
    "execution": {
     "iopub.execute_input": "2024-10-15T00:42:48.856258Z",
     "iopub.status.busy": "2024-10-15T00:42:48.855153Z",
     "iopub.status.idle": "2024-10-15T00:43:03.742600Z",
     "shell.execute_reply": "2024-10-15T00:43:03.741399Z"
    },
    "papermill": {
     "duration": 14.899058,
     "end_time": "2024-10-15T00:43:03.745461",
     "exception": false,
     "start_time": "2024-10-15T00:42:48.846403",
     "status": "completed"
    },
    "tags": []
   },
   "outputs": [
    {
     "name": "stderr",
     "output_type": "stream",
     "text": [
      "2024-10-15 00:42:52,905\tINFO util.py:124 -- Outdated packages:\n",
      "  ipywidgets==7.7.1 found, needs ipywidgets>=8\n",
      "Run `pip install -U ipywidgets`, then restart the notebook server for rich notebook output.\n",
      "2024-10-15 00:42:53,682\tINFO util.py:124 -- Outdated packages:\n",
      "  ipywidgets==7.7.1 found, needs ipywidgets>=8\n",
      "Run `pip install -U ipywidgets`, then restart the notebook server for rich notebook output.\n"
     ]
    }
   ],
   "source": [
    "import pandas as pd \n",
    "import  numpy as np\n",
    "\n",
    "import matplotlib.pyplot as plt\n",
    "import seaborn as sns\n",
    "\n",
    "from sklearn.preprocessing import LabelEncoder\n",
    "\n",
    "from sklearn.model_selection import train_test_split\n",
    "\n",
    "from flaml import AutoML\n",
    "\n",
    "import warnings\n",
    "warnings.filterwarnings('ignore')\n"
   ]
  },
  {
   "cell_type": "code",
   "execution_count": 3,
   "id": "c146b0f0",
   "metadata": {
    "execution": {
     "iopub.execute_input": "2024-10-15T00:43:03.761791Z",
     "iopub.status.busy": "2024-10-15T00:43:03.761007Z",
     "iopub.status.idle": "2024-10-15T00:43:03.828510Z",
     "shell.execute_reply": "2024-10-15T00:43:03.827281Z"
    },
    "papermill": {
     "duration": 0.078618,
     "end_time": "2024-10-15T00:43:03.831175",
     "exception": false,
     "start_time": "2024-10-15T00:43:03.752557",
     "status": "completed"
    },
    "tags": []
   },
   "outputs": [
    {
     "data": {
      "text/html": [
       "<div>\n",
       "<style scoped>\n",
       "    .dataframe tbody tr th:only-of-type {\n",
       "        vertical-align: middle;\n",
       "    }\n",
       "\n",
       "    .dataframe tbody tr th {\n",
       "        vertical-align: top;\n",
       "    }\n",
       "\n",
       "    .dataframe thead th {\n",
       "        text-align: right;\n",
       "    }\n",
       "</style>\n",
       "<table border=\"1\" class=\"dataframe\">\n",
       "  <thead>\n",
       "    <tr style=\"text-align: right;\">\n",
       "      <th></th>\n",
       "      <th>Company</th>\n",
       "      <th>Product</th>\n",
       "      <th>TypeName</th>\n",
       "      <th>Inches</th>\n",
       "      <th>Ram</th>\n",
       "      <th>OS</th>\n",
       "      <th>Weight</th>\n",
       "      <th>Price_euros</th>\n",
       "      <th>Screen</th>\n",
       "      <th>ScreenW</th>\n",
       "      <th>...</th>\n",
       "      <th>RetinaDisplay</th>\n",
       "      <th>CPU_company</th>\n",
       "      <th>CPU_freq</th>\n",
       "      <th>CPU_model</th>\n",
       "      <th>PrimaryStorage</th>\n",
       "      <th>SecondaryStorage</th>\n",
       "      <th>PrimaryStorageType</th>\n",
       "      <th>SecondaryStorageType</th>\n",
       "      <th>GPU_company</th>\n",
       "      <th>GPU_model</th>\n",
       "    </tr>\n",
       "  </thead>\n",
       "  <tbody>\n",
       "    <tr>\n",
       "      <th>0</th>\n",
       "      <td>Apple</td>\n",
       "      <td>MacBook Pro</td>\n",
       "      <td>Ultrabook</td>\n",
       "      <td>13.3</td>\n",
       "      <td>8</td>\n",
       "      <td>macOS</td>\n",
       "      <td>1.37</td>\n",
       "      <td>1339.69</td>\n",
       "      <td>Standard</td>\n",
       "      <td>2560</td>\n",
       "      <td>...</td>\n",
       "      <td>Yes</td>\n",
       "      <td>Intel</td>\n",
       "      <td>2.3</td>\n",
       "      <td>Core i5</td>\n",
       "      <td>128</td>\n",
       "      <td>0</td>\n",
       "      <td>SSD</td>\n",
       "      <td>No</td>\n",
       "      <td>Intel</td>\n",
       "      <td>Iris Plus Graphics 640</td>\n",
       "    </tr>\n",
       "    <tr>\n",
       "      <th>1</th>\n",
       "      <td>Apple</td>\n",
       "      <td>Macbook Air</td>\n",
       "      <td>Ultrabook</td>\n",
       "      <td>13.3</td>\n",
       "      <td>8</td>\n",
       "      <td>macOS</td>\n",
       "      <td>1.34</td>\n",
       "      <td>898.94</td>\n",
       "      <td>Standard</td>\n",
       "      <td>1440</td>\n",
       "      <td>...</td>\n",
       "      <td>No</td>\n",
       "      <td>Intel</td>\n",
       "      <td>1.8</td>\n",
       "      <td>Core i5</td>\n",
       "      <td>128</td>\n",
       "      <td>0</td>\n",
       "      <td>Flash Storage</td>\n",
       "      <td>No</td>\n",
       "      <td>Intel</td>\n",
       "      <td>HD Graphics 6000</td>\n",
       "    </tr>\n",
       "    <tr>\n",
       "      <th>2</th>\n",
       "      <td>HP</td>\n",
       "      <td>250 G6</td>\n",
       "      <td>Notebook</td>\n",
       "      <td>15.6</td>\n",
       "      <td>8</td>\n",
       "      <td>No OS</td>\n",
       "      <td>1.86</td>\n",
       "      <td>575.00</td>\n",
       "      <td>Full HD</td>\n",
       "      <td>1920</td>\n",
       "      <td>...</td>\n",
       "      <td>No</td>\n",
       "      <td>Intel</td>\n",
       "      <td>2.5</td>\n",
       "      <td>Core i5 7200U</td>\n",
       "      <td>256</td>\n",
       "      <td>0</td>\n",
       "      <td>SSD</td>\n",
       "      <td>No</td>\n",
       "      <td>Intel</td>\n",
       "      <td>HD Graphics 620</td>\n",
       "    </tr>\n",
       "    <tr>\n",
       "      <th>3</th>\n",
       "      <td>Apple</td>\n",
       "      <td>MacBook Pro</td>\n",
       "      <td>Ultrabook</td>\n",
       "      <td>15.4</td>\n",
       "      <td>16</td>\n",
       "      <td>macOS</td>\n",
       "      <td>1.83</td>\n",
       "      <td>2537.45</td>\n",
       "      <td>Standard</td>\n",
       "      <td>2880</td>\n",
       "      <td>...</td>\n",
       "      <td>Yes</td>\n",
       "      <td>Intel</td>\n",
       "      <td>2.7</td>\n",
       "      <td>Core i7</td>\n",
       "      <td>512</td>\n",
       "      <td>0</td>\n",
       "      <td>SSD</td>\n",
       "      <td>No</td>\n",
       "      <td>AMD</td>\n",
       "      <td>Radeon Pro 455</td>\n",
       "    </tr>\n",
       "    <tr>\n",
       "      <th>4</th>\n",
       "      <td>Apple</td>\n",
       "      <td>MacBook Pro</td>\n",
       "      <td>Ultrabook</td>\n",
       "      <td>13.3</td>\n",
       "      <td>8</td>\n",
       "      <td>macOS</td>\n",
       "      <td>1.37</td>\n",
       "      <td>1803.60</td>\n",
       "      <td>Standard</td>\n",
       "      <td>2560</td>\n",
       "      <td>...</td>\n",
       "      <td>Yes</td>\n",
       "      <td>Intel</td>\n",
       "      <td>3.1</td>\n",
       "      <td>Core i5</td>\n",
       "      <td>256</td>\n",
       "      <td>0</td>\n",
       "      <td>SSD</td>\n",
       "      <td>No</td>\n",
       "      <td>Intel</td>\n",
       "      <td>Iris Plus Graphics 650</td>\n",
       "    </tr>\n",
       "  </tbody>\n",
       "</table>\n",
       "<p>5 rows × 23 columns</p>\n",
       "</div>"
      ],
      "text/plain": [
       "  Company      Product   TypeName  Inches  Ram     OS  Weight  Price_euros  \\\n",
       "0   Apple  MacBook Pro  Ultrabook    13.3    8  macOS    1.37      1339.69   \n",
       "1   Apple  Macbook Air  Ultrabook    13.3    8  macOS    1.34       898.94   \n",
       "2      HP       250 G6   Notebook    15.6    8  No OS    1.86       575.00   \n",
       "3   Apple  MacBook Pro  Ultrabook    15.4   16  macOS    1.83      2537.45   \n",
       "4   Apple  MacBook Pro  Ultrabook    13.3    8  macOS    1.37      1803.60   \n",
       "\n",
       "     Screen  ScreenW  ...  RetinaDisplay CPU_company CPU_freq      CPU_model  \\\n",
       "0  Standard     2560  ...            Yes       Intel      2.3        Core i5   \n",
       "1  Standard     1440  ...             No       Intel      1.8        Core i5   \n",
       "2   Full HD     1920  ...             No       Intel      2.5  Core i5 7200U   \n",
       "3  Standard     2880  ...            Yes       Intel      2.7        Core i7   \n",
       "4  Standard     2560  ...            Yes       Intel      3.1        Core i5   \n",
       "\n",
       "  PrimaryStorage  SecondaryStorage PrimaryStorageType  SecondaryStorageType  \\\n",
       "0            128                 0                SSD                    No   \n",
       "1            128                 0      Flash Storage                    No   \n",
       "2            256                 0                SSD                    No   \n",
       "3            512                 0                SSD                    No   \n",
       "4            256                 0                SSD                    No   \n",
       "\n",
       "   GPU_company               GPU_model  \n",
       "0        Intel  Iris Plus Graphics 640  \n",
       "1        Intel        HD Graphics 6000  \n",
       "2        Intel         HD Graphics 620  \n",
       "3          AMD          Radeon Pro 455  \n",
       "4        Intel  Iris Plus Graphics 650  \n",
       "\n",
       "[5 rows x 23 columns]"
      ]
     },
     "execution_count": 3,
     "metadata": {},
     "output_type": "execute_result"
    }
   ],
   "source": [
    "df = pd.read_csv('/kaggle/input/laptop-prices/laptop_prices.csv')\n",
    "df.head()"
   ]
  },
  {
   "cell_type": "code",
   "execution_count": 4,
   "id": "facaf8c7",
   "metadata": {
    "execution": {
     "iopub.execute_input": "2024-10-15T00:43:03.848257Z",
     "iopub.status.busy": "2024-10-15T00:43:03.847806Z",
     "iopub.status.idle": "2024-10-15T00:43:03.874751Z",
     "shell.execute_reply": "2024-10-15T00:43:03.873553Z"
    },
    "papermill": {
     "duration": 0.038953,
     "end_time": "2024-10-15T00:43:03.877793",
     "exception": false,
     "start_time": "2024-10-15T00:43:03.838840",
     "status": "completed"
    },
    "tags": []
   },
   "outputs": [
    {
     "name": "stdout",
     "output_type": "stream",
     "text": [
      "<class 'pandas.core.frame.DataFrame'>\n",
      "RangeIndex: 1275 entries, 0 to 1274\n",
      "Data columns (total 23 columns):\n",
      " #   Column                Non-Null Count  Dtype  \n",
      "---  ------                --------------  -----  \n",
      " 0   Company               1275 non-null   object \n",
      " 1   Product               1275 non-null   object \n",
      " 2   TypeName              1275 non-null   object \n",
      " 3   Inches                1275 non-null   float64\n",
      " 4   Ram                   1275 non-null   int64  \n",
      " 5   OS                    1275 non-null   object \n",
      " 6   Weight                1275 non-null   float64\n",
      " 7   Price_euros           1275 non-null   float64\n",
      " 8   Screen                1275 non-null   object \n",
      " 9   ScreenW               1275 non-null   int64  \n",
      " 10  ScreenH               1275 non-null   int64  \n",
      " 11  Touchscreen           1275 non-null   object \n",
      " 12  IPSpanel              1275 non-null   object \n",
      " 13  RetinaDisplay         1275 non-null   object \n",
      " 14  CPU_company           1275 non-null   object \n",
      " 15  CPU_freq              1275 non-null   float64\n",
      " 16  CPU_model             1275 non-null   object \n",
      " 17  PrimaryStorage        1275 non-null   int64  \n",
      " 18  SecondaryStorage      1275 non-null   int64  \n",
      " 19  PrimaryStorageType    1275 non-null   object \n",
      " 20  SecondaryStorageType  1275 non-null   object \n",
      " 21  GPU_company           1275 non-null   object \n",
      " 22  GPU_model             1275 non-null   object \n",
      "dtypes: float64(4), int64(5), object(14)\n",
      "memory usage: 229.2+ KB\n"
     ]
    }
   ],
   "source": [
    "df.info()"
   ]
  },
  {
   "cell_type": "code",
   "execution_count": 5,
   "id": "17c59a49",
   "metadata": {
    "execution": {
     "iopub.execute_input": "2024-10-15T00:43:03.894959Z",
     "iopub.status.busy": "2024-10-15T00:43:03.894503Z",
     "iopub.status.idle": "2024-10-15T00:43:03.908275Z",
     "shell.execute_reply": "2024-10-15T00:43:03.906837Z"
    },
    "papermill": {
     "duration": 0.025191,
     "end_time": "2024-10-15T00:43:03.910740",
     "exception": false,
     "start_time": "2024-10-15T00:43:03.885549",
     "status": "completed"
    },
    "tags": []
   },
   "outputs": [
    {
     "name": "stdout",
     "output_type": "stream",
     "text": [
      "number of uniques values in Company =  19\n",
      "number of uniques values in Product =  618\n",
      "number of uniques values in TypeName =  6\n",
      "number of uniques values in OS =  9\n",
      "number of uniques values in Screen =  4\n",
      "number of uniques values in Touchscreen =  2\n",
      "number of uniques values in IPSpanel =  2\n",
      "number of uniques values in RetinaDisplay =  2\n",
      "number of uniques values in CPU_company =  3\n",
      "number of uniques values in CPU_model =  93\n",
      "number of uniques values in PrimaryStorageType =  4\n",
      "number of uniques values in SecondaryStorageType =  4\n",
      "number of uniques values in GPU_company =  4\n",
      "number of uniques values in GPU_model =  110\n"
     ]
    }
   ],
   "source": [
    "cat_df = df.select_dtypes(include='object')\n",
    "for i in (cat_df):\n",
    "    print(f'number of uniques values in {i} = ',cat_df[i].nunique())"
   ]
  },
  {
   "cell_type": "code",
   "execution_count": 6,
   "id": "46ce3ec8",
   "metadata": {
    "execution": {
     "iopub.execute_input": "2024-10-15T00:43:03.928256Z",
     "iopub.status.busy": "2024-10-15T00:43:03.927787Z",
     "iopub.status.idle": "2024-10-15T00:43:03.973170Z",
     "shell.execute_reply": "2024-10-15T00:43:03.971866Z"
    },
    "papermill": {
     "duration": 0.057198,
     "end_time": "2024-10-15T00:43:03.975856",
     "exception": false,
     "start_time": "2024-10-15T00:43:03.918658",
     "status": "completed"
    },
    "tags": []
   },
   "outputs": [
    {
     "name": "stdout",
     "output_type": "stream",
     "text": [
      "  Company      Product   TypeName  Inches  Ram     OS  Weight  Price_euros  \\\n",
      "0   Apple  MacBook Pro  Ultrabook    13.3    8  macOS    1.37      1339.69   \n",
      "1   Apple  Macbook Air  Ultrabook    13.3    8  macOS    1.34       898.94   \n",
      "2      HP       250 G6   Notebook    15.6    8  No OS    1.86       575.00   \n",
      "3   Apple  MacBook Pro  Ultrabook    15.4   16  macOS    1.83      2537.45   \n",
      "4   Apple  MacBook Pro  Ultrabook    13.3    8  macOS    1.37      1803.60   \n",
      "\n",
      "     Screen  ScreenW  ...  RetinaDisplay CPU_company CPU_freq      CPU_model  \\\n",
      "0  Standard     2560  ...            Yes       Intel      2.3        Core i5   \n",
      "1  Standard     1440  ...             No       Intel      1.8        Core i5   \n",
      "2   Full HD     1920  ...             No       Intel      2.5  Core i5 7200U   \n",
      "3  Standard     2880  ...            Yes       Intel      2.7        Core i7   \n",
      "4  Standard     2560  ...            Yes       Intel      3.1        Core i5   \n",
      "\n",
      "  PrimaryStorage  SecondaryStorage PrimaryStorageType  SecondaryStorageType  \\\n",
      "0            128                 0                SSD                    No   \n",
      "1            128                 0      Flash Storage                    No   \n",
      "2            256                 0                SSD                    No   \n",
      "3            512                 0                SSD                    No   \n",
      "4            256                 0                SSD                    No   \n",
      "\n",
      "   GPU_company               GPU_model  \n",
      "0        Intel  Iris Plus Graphics 640  \n",
      "1        Intel        HD Graphics 6000  \n",
      "2        Intel         HD Graphics 620  \n",
      "3          AMD          Radeon Pro 455  \n",
      "4        Intel  Iris Plus Graphics 650  \n",
      "\n",
      "[5 rows x 23 columns]\n",
      "            Inches          Ram       Weight  Price_euros      ScreenW  \\\n",
      "count  1275.000000  1275.000000  1275.000000  1275.000000  1275.000000   \n",
      "mean     15.022902     8.440784     2.040525  1134.969059  1900.043922   \n",
      "std       1.429470     5.097809     0.669196   700.752504   493.346186   \n",
      "min      10.100000     2.000000     0.690000   174.000000  1366.000000   \n",
      "25%      14.000000     4.000000     1.500000   609.000000  1920.000000   \n",
      "50%      15.600000     8.000000     2.040000   989.000000  1920.000000   \n",
      "75%      15.600000     8.000000     2.310000  1496.500000  1920.000000   \n",
      "max      18.400000    64.000000     4.700000  6099.000000  3840.000000   \n",
      "\n",
      "           ScreenH     CPU_freq  PrimaryStorage  SecondaryStorage  \n",
      "count  1275.000000  1275.000000     1275.000000       1275.000000  \n",
      "mean   1073.904314     2.302980      444.517647        176.069020  \n",
      "std     283.883940     0.503846      365.537726        415.960655  \n",
      "min     768.000000     0.900000        8.000000          0.000000  \n",
      "25%    1080.000000     2.000000      256.000000          0.000000  \n",
      "50%    1080.000000     2.500000      256.000000          0.000000  \n",
      "75%    1080.000000     2.700000      512.000000          0.000000  \n",
      "max    2160.000000     3.600000     2048.000000       2048.000000  \n",
      "Index(['Company', 'Product', 'TypeName', 'Inches', 'Ram', 'OS', 'Weight',\n",
      "       'Price_euros', 'Screen', 'ScreenW', 'ScreenH', 'Touchscreen',\n",
      "       'IPSpanel', 'RetinaDisplay', 'CPU_company', 'CPU_freq', 'CPU_model',\n",
      "       'PrimaryStorage', 'SecondaryStorage', 'PrimaryStorageType',\n",
      "       'SecondaryStorageType', 'GPU_company', 'GPU_model'],\n",
      "      dtype='object')\n"
     ]
    }
   ],
   "source": [
    "print(df.head())\n",
    "print(df.describe())\n",
    "print(df.columns)"
   ]
  },
  {
   "cell_type": "code",
   "execution_count": 7,
   "id": "4560e85d",
   "metadata": {
    "execution": {
     "iopub.execute_input": "2024-10-15T00:43:03.994203Z",
     "iopub.status.busy": "2024-10-15T00:43:03.993614Z",
     "iopub.status.idle": "2024-10-15T00:43:04.002011Z",
     "shell.execute_reply": "2024-10-15T00:43:04.000808Z"
    },
    "papermill": {
     "duration": 0.020175,
     "end_time": "2024-10-15T00:43:04.004470",
     "exception": false,
     "start_time": "2024-10-15T00:43:03.984295",
     "status": "completed"
    },
    "tags": []
   },
   "outputs": [
    {
     "data": {
      "text/plain": [
       "Index(['Company', 'Product', 'TypeName', 'Inches', 'Ram', 'OS', 'Weight',\n",
       "       'Price_euros', 'Screen', 'ScreenW', 'ScreenH', 'Touchscreen',\n",
       "       'IPSpanel', 'RetinaDisplay', 'CPU_company', 'CPU_freq', 'CPU_model',\n",
       "       'PrimaryStorage', 'SecondaryStorage', 'PrimaryStorageType',\n",
       "       'SecondaryStorageType', 'GPU_company', 'GPU_model'],\n",
       "      dtype='object')"
      ]
     },
     "execution_count": 7,
     "metadata": {},
     "output_type": "execute_result"
    }
   ],
   "source": [
    "df.columns"
   ]
  },
  {
   "cell_type": "code",
   "execution_count": 8,
   "id": "c8daa824",
   "metadata": {
    "execution": {
     "iopub.execute_input": "2024-10-15T00:43:04.023946Z",
     "iopub.status.busy": "2024-10-15T00:43:04.023517Z",
     "iopub.status.idle": "2024-10-15T00:43:04.039729Z",
     "shell.execute_reply": "2024-10-15T00:43:04.038469Z"
    },
    "papermill": {
     "duration": 0.028504,
     "end_time": "2024-10-15T00:43:04.042369",
     "exception": false,
     "start_time": "2024-10-15T00:43:04.013865",
     "status": "completed"
    },
    "tags": []
   },
   "outputs": [],
   "source": [
    "# split data into train and test set \n",
    "features = df.drop(columns='Price_euros',axis=1)\n",
    "target = df['Price_euros']\n",
    "\n",
    "# # Convert categorical variables using Label Encoder\n",
    "# # Initialize LabelEncoder\n",
    "# label_encoders = {}\n",
    "# for column in features.select_dtypes(include=['object']).columns:\n",
    "#     le = LabelEncoder()\n",
    "#     features[column] = le.fit_transform(features[column])\n",
    "#     label_encoders[column] = le  # Store the encoder for future use if needed\n",
    "\n",
    "\n",
    "x_train,x_test,y_train,y_test = train_test_split(features,target,test_size=0.2)\n",
    "\n",
    "# make two set one for [train set], another for [test set]\n",
    "train_data = pd.concat([x_train,y_train],axis=1)\n",
    "test_data = pd.concat([x_test,y_test],axis=1)"
   ]
  },
  {
   "cell_type": "code",
   "execution_count": 9,
   "id": "cd9a31f8",
   "metadata": {
    "execution": {
     "iopub.execute_input": "2024-10-15T00:43:04.060556Z",
     "iopub.status.busy": "2024-10-15T00:43:04.060100Z",
     "iopub.status.idle": "2024-10-15T00:44:04.356257Z",
     "shell.execute_reply": "2024-10-15T00:44:04.355110Z"
    },
    "papermill": {
     "duration": 60.334493,
     "end_time": "2024-10-15T00:44:04.385140",
     "exception": false,
     "start_time": "2024-10-15T00:43:04.050647",
     "status": "completed"
    },
    "tags": []
   },
   "outputs": [
    {
     "name": "stdout",
     "output_type": "stream",
     "text": [
      "[flaml.automl.logger: 10-15 00:43:04] {1728} INFO - task = regression\n",
      "[flaml.automl.logger: 10-15 00:43:04] {1739} INFO - Evaluation method: cv\n",
      "[flaml.automl.logger: 10-15 00:43:04] {1838} INFO - Minimizing error metric: 1-r2\n",
      "[flaml.automl.logger: 10-15 00:43:04] {1955} INFO - List of ML learners in AutoML Run: ['lgbm', 'rf', 'xgboost', 'extra_tree', 'xgb_limitdepth', 'sgd', 'catboost']\n",
      "[flaml.automl.logger: 10-15 00:43:04] {2258} INFO - iteration 0, current learner lgbm\n",
      "[flaml.automl.logger: 10-15 00:43:04] {2393} INFO - Estimated sufficient time budget=2044s. Estimated necessary time budget=18s.\n",
      "[flaml.automl.logger: 10-15 00:43:04] {2442} INFO -  at 0.5s,\testimator lgbm's best error=0.6855,\tbest estimator lgbm's best error=0.6855\n",
      "[flaml.automl.logger: 10-15 00:43:04] {2258} INFO - iteration 1, current learner lgbm\n",
      "[flaml.automl.logger: 10-15 00:43:04] {2442} INFO -  at 0.6s,\testimator lgbm's best error=0.6855,\tbest estimator lgbm's best error=0.6855\n",
      "[flaml.automl.logger: 10-15 00:43:04] {2258} INFO - iteration 2, current learner lgbm\n",
      "[flaml.automl.logger: 10-15 00:43:04] {2442} INFO -  at 0.8s,\testimator lgbm's best error=0.4381,\tbest estimator lgbm's best error=0.4381\n",
      "[flaml.automl.logger: 10-15 00:43:04] {2258} INFO - iteration 3, current learner sgd\n",
      "[flaml.automl.logger: 10-15 00:43:05] {2442} INFO -  at 1.5s,\testimator sgd's best error=1.6002,\tbest estimator lgbm's best error=0.4381\n",
      "[flaml.automl.logger: 10-15 00:43:05] {2258} INFO - iteration 4, current learner lgbm\n",
      "[flaml.automl.logger: 10-15 00:43:05] {2442} INFO -  at 1.7s,\testimator lgbm's best error=0.2505,\tbest estimator lgbm's best error=0.2505\n",
      "[flaml.automl.logger: 10-15 00:43:05] {2258} INFO - iteration 5, current learner lgbm\n",
      "[flaml.automl.logger: 10-15 00:43:05] {2442} INFO -  at 1.8s,\testimator lgbm's best error=0.2505,\tbest estimator lgbm's best error=0.2505\n",
      "[flaml.automl.logger: 10-15 00:43:05] {2258} INFO - iteration 6, current learner lgbm\n",
      "[flaml.automl.logger: 10-15 00:43:06] {2442} INFO -  at 2.0s,\testimator lgbm's best error=0.2505,\tbest estimator lgbm's best error=0.2505\n",
      "[flaml.automl.logger: 10-15 00:43:06] {2258} INFO - iteration 7, current learner lgbm\n",
      "[flaml.automl.logger: 10-15 00:43:06] {2442} INFO -  at 2.1s,\testimator lgbm's best error=0.2505,\tbest estimator lgbm's best error=0.2505\n",
      "[flaml.automl.logger: 10-15 00:43:06] {2258} INFO - iteration 8, current learner xgboost\n",
      "[flaml.automl.logger: 10-15 00:43:06] {2442} INFO -  at 2.4s,\testimator xgboost's best error=0.6863,\tbest estimator lgbm's best error=0.2505\n",
      "[flaml.automl.logger: 10-15 00:43:06] {2258} INFO - iteration 9, current learner lgbm\n",
      "[flaml.automl.logger: 10-15 00:43:06] {2442} INFO -  at 2.5s,\testimator lgbm's best error=0.2505,\tbest estimator lgbm's best error=0.2505\n",
      "[flaml.automl.logger: 10-15 00:43:06] {2258} INFO - iteration 10, current learner xgboost\n",
      "[flaml.automl.logger: 10-15 00:43:06] {2442} INFO -  at 2.7s,\testimator xgboost's best error=0.6863,\tbest estimator lgbm's best error=0.2505\n",
      "[flaml.automl.logger: 10-15 00:43:06] {2258} INFO - iteration 11, current learner extra_tree\n",
      "[flaml.automl.logger: 10-15 00:43:06] {2442} INFO -  at 2.9s,\testimator extra_tree's best error=0.4504,\tbest estimator lgbm's best error=0.2505\n",
      "[flaml.automl.logger: 10-15 00:43:06] {2258} INFO - iteration 12, current learner extra_tree\n",
      "[flaml.automl.logger: 10-15 00:43:07] {2442} INFO -  at 3.0s,\testimator extra_tree's best error=0.3647,\tbest estimator lgbm's best error=0.2505\n",
      "[flaml.automl.logger: 10-15 00:43:07] {2258} INFO - iteration 13, current learner rf\n",
      "[flaml.automl.logger: 10-15 00:43:07] {2442} INFO -  at 3.2s,\testimator rf's best error=0.4303,\tbest estimator lgbm's best error=0.2505\n",
      "[flaml.automl.logger: 10-15 00:43:07] {2258} INFO - iteration 14, current learner rf\n",
      "[flaml.automl.logger: 10-15 00:43:07] {2442} INFO -  at 3.6s,\testimator rf's best error=0.3050,\tbest estimator lgbm's best error=0.2505\n",
      "[flaml.automl.logger: 10-15 00:43:07] {2258} INFO - iteration 15, current learner rf\n",
      "[flaml.automl.logger: 10-15 00:43:07] {2442} INFO -  at 3.8s,\testimator rf's best error=0.3050,\tbest estimator lgbm's best error=0.2505\n",
      "[flaml.automl.logger: 10-15 00:43:07] {2258} INFO - iteration 16, current learner extra_tree\n",
      "[flaml.automl.logger: 10-15 00:43:08] {2442} INFO -  at 4.0s,\testimator extra_tree's best error=0.3647,\tbest estimator lgbm's best error=0.2505\n",
      "[flaml.automl.logger: 10-15 00:43:08] {2258} INFO - iteration 17, current learner lgbm\n",
      "[flaml.automl.logger: 10-15 00:43:08] {2442} INFO -  at 4.2s,\testimator lgbm's best error=0.2258,\tbest estimator lgbm's best error=0.2258\n",
      "[flaml.automl.logger: 10-15 00:43:08] {2258} INFO - iteration 18, current learner sgd\n",
      "[flaml.automl.logger: 10-15 00:43:09] {2442} INFO -  at 5.3s,\testimator sgd's best error=1.2720,\tbest estimator lgbm's best error=0.2258\n",
      "[flaml.automl.logger: 10-15 00:43:09] {2258} INFO - iteration 19, current learner lgbm\n",
      "[flaml.automl.logger: 10-15 00:43:09] {2442} INFO -  at 5.4s,\testimator lgbm's best error=0.2258,\tbest estimator lgbm's best error=0.2258\n",
      "[flaml.automl.logger: 10-15 00:43:09] {2258} INFO - iteration 20, current learner xgboost\n",
      "[flaml.automl.logger: 10-15 00:43:09] {2442} INFO -  at 5.6s,\testimator xgboost's best error=0.4341,\tbest estimator lgbm's best error=0.2258\n",
      "[flaml.automl.logger: 10-15 00:43:09] {2258} INFO - iteration 21, current learner rf\n",
      "[flaml.automl.logger: 10-15 00:43:09] {2442} INFO -  at 5.9s,\testimator rf's best error=0.2484,\tbest estimator lgbm's best error=0.2258\n",
      "[flaml.automl.logger: 10-15 00:43:09] {2258} INFO - iteration 22, current learner rf\n",
      "[flaml.automl.logger: 10-15 00:43:10] {2442} INFO -  at 6.1s,\testimator rf's best error=0.2168,\tbest estimator rf's best error=0.2168\n",
      "[flaml.automl.logger: 10-15 00:43:10] {2258} INFO - iteration 23, current learner lgbm\n",
      "[flaml.automl.logger: 10-15 00:43:10] {2442} INFO -  at 6.4s,\testimator lgbm's best error=0.1780,\tbest estimator lgbm's best error=0.1780\n",
      "[flaml.automl.logger: 10-15 00:43:10] {2258} INFO - iteration 24, current learner lgbm\n",
      "[flaml.automl.logger: 10-15 00:43:10] {2442} INFO -  at 6.6s,\testimator lgbm's best error=0.1780,\tbest estimator lgbm's best error=0.1780\n",
      "[flaml.automl.logger: 10-15 00:43:10] {2258} INFO - iteration 25, current learner xgboost\n",
      "[flaml.automl.logger: 10-15 00:43:10] {2442} INFO -  at 6.8s,\testimator xgboost's best error=0.3715,\tbest estimator lgbm's best error=0.1780\n",
      "[flaml.automl.logger: 10-15 00:43:10] {2258} INFO - iteration 26, current learner extra_tree\n",
      "[flaml.automl.logger: 10-15 00:43:11] {2442} INFO -  at 7.0s,\testimator extra_tree's best error=0.2729,\tbest estimator lgbm's best error=0.1780\n",
      "[flaml.automl.logger: 10-15 00:43:11] {2258} INFO - iteration 27, current learner lgbm\n",
      "[flaml.automl.logger: 10-15 00:43:11] {2442} INFO -  at 7.2s,\testimator lgbm's best error=0.1780,\tbest estimator lgbm's best error=0.1780\n",
      "[flaml.automl.logger: 10-15 00:43:11] {2258} INFO - iteration 28, current learner xgboost\n",
      "[flaml.automl.logger: 10-15 00:43:11] {2442} INFO -  at 7.4s,\testimator xgboost's best error=0.3715,\tbest estimator lgbm's best error=0.1780\n",
      "[flaml.automl.logger: 10-15 00:43:11] {2258} INFO - iteration 29, current learner extra_tree\n",
      "[flaml.automl.logger: 10-15 00:43:11] {2442} INFO -  at 7.6s,\testimator extra_tree's best error=0.2334,\tbest estimator lgbm's best error=0.1780\n",
      "[flaml.automl.logger: 10-15 00:43:11] {2258} INFO - iteration 30, current learner extra_tree\n",
      "[flaml.automl.logger: 10-15 00:43:11] {2442} INFO -  at 7.9s,\testimator extra_tree's best error=0.2334,\tbest estimator lgbm's best error=0.1780\n",
      "[flaml.automl.logger: 10-15 00:43:11] {2258} INFO - iteration 31, current learner lgbm\n",
      "[flaml.automl.logger: 10-15 00:43:12] {2442} INFO -  at 8.1s,\testimator lgbm's best error=0.1780,\tbest estimator lgbm's best error=0.1780\n",
      "[flaml.automl.logger: 10-15 00:43:12] {2258} INFO - iteration 32, current learner lgbm\n",
      "[flaml.automl.logger: 10-15 00:43:12] {2442} INFO -  at 8.3s,\testimator lgbm's best error=0.1780,\tbest estimator lgbm's best error=0.1780\n",
      "[flaml.automl.logger: 10-15 00:43:12] {2258} INFO - iteration 33, current learner lgbm\n",
      "[flaml.automl.logger: 10-15 00:43:12] {2442} INFO -  at 8.6s,\testimator lgbm's best error=0.1780,\tbest estimator lgbm's best error=0.1780\n",
      "[flaml.automl.logger: 10-15 00:43:12] {2258} INFO - iteration 34, current learner extra_tree\n",
      "[flaml.automl.logger: 10-15 00:43:12] {2442} INFO -  at 8.8s,\testimator extra_tree's best error=0.2191,\tbest estimator lgbm's best error=0.1780\n",
      "[flaml.automl.logger: 10-15 00:43:12] {2258} INFO - iteration 35, current learner lgbm\n",
      "[flaml.automl.logger: 10-15 00:43:13] {2442} INFO -  at 9.0s,\testimator lgbm's best error=0.1780,\tbest estimator lgbm's best error=0.1780\n",
      "[flaml.automl.logger: 10-15 00:43:13] {2258} INFO - iteration 36, current learner rf\n",
      "[flaml.automl.logger: 10-15 00:43:13] {2442} INFO -  at 9.3s,\testimator rf's best error=0.2168,\tbest estimator lgbm's best error=0.1780\n",
      "[flaml.automl.logger: 10-15 00:43:13] {2258} INFO - iteration 37, current learner sgd\n",
      "[flaml.automl.logger: 10-15 00:43:14] {2442} INFO -  at 10.4s,\testimator sgd's best error=0.9940,\tbest estimator lgbm's best error=0.1780\n",
      "[flaml.automl.logger: 10-15 00:43:14] {2258} INFO - iteration 38, current learner rf\n",
      "[flaml.automl.logger: 10-15 00:43:14] {2442} INFO -  at 10.7s,\testimator rf's best error=0.1958,\tbest estimator lgbm's best error=0.1780\n",
      "[flaml.automl.logger: 10-15 00:43:14] {2258} INFO - iteration 39, current learner xgboost\n",
      "[flaml.automl.logger: 10-15 00:43:14] {2442} INFO -  at 10.9s,\testimator xgboost's best error=0.3019,\tbest estimator lgbm's best error=0.1780\n",
      "[flaml.automl.logger: 10-15 00:43:14] {2258} INFO - iteration 40, current learner rf\n",
      "[flaml.automl.logger: 10-15 00:43:15] {2442} INFO -  at 11.1s,\testimator rf's best error=0.1958,\tbest estimator lgbm's best error=0.1780\n",
      "[flaml.automl.logger: 10-15 00:43:15] {2258} INFO - iteration 41, current learner xgboost\n",
      "[flaml.automl.logger: 10-15 00:43:15] {2442} INFO -  at 11.3s,\testimator xgboost's best error=0.3019,\tbest estimator lgbm's best error=0.1780\n",
      "[flaml.automl.logger: 10-15 00:43:15] {2258} INFO - iteration 42, current learner extra_tree\n",
      "[flaml.automl.logger: 10-15 00:43:15] {2442} INFO -  at 11.5s,\testimator extra_tree's best error=0.2191,\tbest estimator lgbm's best error=0.1780\n",
      "[flaml.automl.logger: 10-15 00:43:15] {2258} INFO - iteration 43, current learner lgbm\n",
      "[flaml.automl.logger: 10-15 00:43:15] {2442} INFO -  at 11.8s,\testimator lgbm's best error=0.1780,\tbest estimator lgbm's best error=0.1780\n",
      "[flaml.automl.logger: 10-15 00:43:15] {2258} INFO - iteration 44, current learner xgboost\n",
      "[flaml.automl.logger: 10-15 00:43:16] {2442} INFO -  at 12.0s,\testimator xgboost's best error=0.3019,\tbest estimator lgbm's best error=0.1780\n",
      "[flaml.automl.logger: 10-15 00:43:16] {2258} INFO - iteration 45, current learner sgd\n",
      "[flaml.automl.logger: 10-15 00:43:16] {2442} INFO -  at 12.3s,\testimator sgd's best error=0.9940,\tbest estimator lgbm's best error=0.1780\n",
      "[flaml.automl.logger: 10-15 00:43:16] {2258} INFO - iteration 46, current learner xgboost\n",
      "[flaml.automl.logger: 10-15 00:43:16] {2442} INFO -  at 12.5s,\testimator xgboost's best error=0.3019,\tbest estimator lgbm's best error=0.1780\n",
      "[flaml.automl.logger: 10-15 00:43:16] {2258} INFO - iteration 47, current learner lgbm\n",
      "[flaml.automl.logger: 10-15 00:43:16] {2442} INFO -  at 12.8s,\testimator lgbm's best error=0.1780,\tbest estimator lgbm's best error=0.1780\n",
      "[flaml.automl.logger: 10-15 00:43:16] {2258} INFO - iteration 48, current learner xgboost\n",
      "[flaml.automl.logger: 10-15 00:43:17] {2442} INFO -  at 13.0s,\testimator xgboost's best error=0.2522,\tbest estimator lgbm's best error=0.1780\n",
      "[flaml.automl.logger: 10-15 00:43:17] {2258} INFO - iteration 49, current learner lgbm\n",
      "[flaml.automl.logger: 10-15 00:43:17] {2442} INFO -  at 13.1s,\testimator lgbm's best error=0.1780,\tbest estimator lgbm's best error=0.1780\n",
      "[flaml.automl.logger: 10-15 00:43:17] {2258} INFO - iteration 50, current learner rf\n",
      "[flaml.automl.logger: 10-15 00:43:17] {2442} INFO -  at 13.5s,\testimator rf's best error=0.1685,\tbest estimator rf's best error=0.1685\n",
      "[flaml.automl.logger: 10-15 00:43:17] {2258} INFO - iteration 51, current learner extra_tree\n",
      "[flaml.automl.logger: 10-15 00:43:17] {2442} INFO -  at 13.9s,\testimator extra_tree's best error=0.1821,\tbest estimator rf's best error=0.1685\n",
      "[flaml.automl.logger: 10-15 00:43:17] {2258} INFO - iteration 52, current learner rf\n",
      "[flaml.automl.logger: 10-15 00:43:18] {2442} INFO -  at 14.1s,\testimator rf's best error=0.1685,\tbest estimator rf's best error=0.1685\n",
      "[flaml.automl.logger: 10-15 00:43:18] {2258} INFO - iteration 53, current learner rf\n",
      "[flaml.automl.logger: 10-15 00:43:18] {2442} INFO -  at 14.5s,\testimator rf's best error=0.1685,\tbest estimator rf's best error=0.1685\n",
      "[flaml.automl.logger: 10-15 00:43:18] {2258} INFO - iteration 54, current learner rf\n",
      "[flaml.automl.logger: 10-15 00:43:19] {2442} INFO -  at 15.1s,\testimator rf's best error=0.1685,\tbest estimator rf's best error=0.1685\n",
      "[flaml.automl.logger: 10-15 00:43:19] {2258} INFO - iteration 55, current learner lgbm\n",
      "[flaml.automl.logger: 10-15 00:43:19] {2442} INFO -  at 15.4s,\testimator lgbm's best error=0.1780,\tbest estimator rf's best error=0.1685\n",
      "[flaml.automl.logger: 10-15 00:43:19] {2258} INFO - iteration 56, current learner extra_tree\n",
      "[flaml.automl.logger: 10-15 00:43:19] {2442} INFO -  at 15.6s,\testimator extra_tree's best error=0.1821,\tbest estimator rf's best error=0.1685\n",
      "[flaml.automl.logger: 10-15 00:43:19] {2258} INFO - iteration 57, current learner rf\n",
      "[flaml.automl.logger: 10-15 00:43:19] {2442} INFO -  at 15.9s,\testimator rf's best error=0.1685,\tbest estimator rf's best error=0.1685\n",
      "[flaml.automl.logger: 10-15 00:43:19] {2258} INFO - iteration 58, current learner rf\n",
      "[flaml.automl.logger: 10-15 00:43:20] {2442} INFO -  at 16.6s,\testimator rf's best error=0.1583,\tbest estimator rf's best error=0.1583\n",
      "[flaml.automl.logger: 10-15 00:43:20] {2258} INFO - iteration 59, current learner xgboost\n",
      "[flaml.automl.logger: 10-15 00:43:20] {2442} INFO -  at 16.8s,\testimator xgboost's best error=0.2522,\tbest estimator rf's best error=0.1583\n",
      "[flaml.automl.logger: 10-15 00:43:20] {2258} INFO - iteration 60, current learner lgbm\n",
      "[flaml.automl.logger: 10-15 00:43:21] {2442} INFO -  at 17.1s,\testimator lgbm's best error=0.1780,\tbest estimator rf's best error=0.1583\n",
      "[flaml.automl.logger: 10-15 00:43:21] {2258} INFO - iteration 61, current learner extra_tree\n",
      "[flaml.automl.logger: 10-15 00:43:21] {2442} INFO -  at 17.3s,\testimator extra_tree's best error=0.1821,\tbest estimator rf's best error=0.1583\n",
      "[flaml.automl.logger: 10-15 00:43:21] {2258} INFO - iteration 62, current learner lgbm\n",
      "[flaml.automl.logger: 10-15 00:43:21] {2442} INFO -  at 17.6s,\testimator lgbm's best error=0.1780,\tbest estimator rf's best error=0.1583\n",
      "[flaml.automl.logger: 10-15 00:43:21] {2258} INFO - iteration 63, current learner extra_tree\n",
      "[flaml.automl.logger: 10-15 00:43:22] {2442} INFO -  at 18.1s,\testimator extra_tree's best error=0.1821,\tbest estimator rf's best error=0.1583\n",
      "[flaml.automl.logger: 10-15 00:43:22] {2258} INFO - iteration 64, current learner extra_tree\n",
      "[flaml.automl.logger: 10-15 00:43:22] {2442} INFO -  at 18.4s,\testimator extra_tree's best error=0.1821,\tbest estimator rf's best error=0.1583\n",
      "[flaml.automl.logger: 10-15 00:43:22] {2258} INFO - iteration 65, current learner lgbm\n",
      "[flaml.automl.logger: 10-15 00:43:22] {2442} INFO -  at 18.7s,\testimator lgbm's best error=0.1780,\tbest estimator rf's best error=0.1583\n",
      "[flaml.automl.logger: 10-15 00:43:22] {2258} INFO - iteration 66, current learner rf\n",
      "[flaml.automl.logger: 10-15 00:43:23] {2442} INFO -  at 19.4s,\testimator rf's best error=0.1583,\tbest estimator rf's best error=0.1583\n",
      "[flaml.automl.logger: 10-15 00:43:23] {2258} INFO - iteration 67, current learner extra_tree\n",
      "[flaml.automl.logger: 10-15 00:43:24] {2442} INFO -  at 19.9s,\testimator extra_tree's best error=0.1777,\tbest estimator rf's best error=0.1583\n",
      "[flaml.automl.logger: 10-15 00:43:24] {2258} INFO - iteration 68, current learner rf\n",
      "[flaml.automl.logger: 10-15 00:43:25] {2442} INFO -  at 21.1s,\testimator rf's best error=0.1583,\tbest estimator rf's best error=0.1583\n",
      "[flaml.automl.logger: 10-15 00:43:25] {2258} INFO - iteration 69, current learner lgbm\n",
      "[flaml.automl.logger: 10-15 00:43:25] {2442} INFO -  at 21.3s,\testimator lgbm's best error=0.1780,\tbest estimator rf's best error=0.1583\n",
      "[flaml.automl.logger: 10-15 00:43:25] {2258} INFO - iteration 70, current learner rf\n",
      "[flaml.automl.logger: 10-15 00:43:25] {2442} INFO -  at 21.7s,\testimator rf's best error=0.1583,\tbest estimator rf's best error=0.1583\n",
      "[flaml.automl.logger: 10-15 00:43:25] {2258} INFO - iteration 71, current learner xgboost\n",
      "[flaml.automl.logger: 10-15 00:43:25] {2442} INFO -  at 21.9s,\testimator xgboost's best error=0.2522,\tbest estimator rf's best error=0.1583\n",
      "[flaml.automl.logger: 10-15 00:43:25] {2258} INFO - iteration 72, current learner rf\n",
      "[flaml.automl.logger: 10-15 00:43:27] {2442} INFO -  at 23.3s,\testimator rf's best error=0.1583,\tbest estimator rf's best error=0.1583\n",
      "[flaml.automl.logger: 10-15 00:43:27] {2258} INFO - iteration 73, current learner catboost\n",
      "[flaml.automl.logger: 10-15 00:43:29] {2442} INFO -  at 25.6s,\testimator catboost's best error=0.1974,\tbest estimator rf's best error=0.1583\n",
      "[flaml.automl.logger: 10-15 00:43:29] {2258} INFO - iteration 74, current learner catboost\n",
      "[flaml.automl.logger: 10-15 00:43:33] {2442} INFO -  at 29.1s,\testimator catboost's best error=0.1823,\tbest estimator rf's best error=0.1583\n",
      "[flaml.automl.logger: 10-15 00:43:33] {2258} INFO - iteration 75, current learner xgboost\n",
      "[flaml.automl.logger: 10-15 00:43:33] {2442} INFO -  at 29.3s,\testimator xgboost's best error=0.2165,\tbest estimator rf's best error=0.1583\n",
      "[flaml.automl.logger: 10-15 00:43:33] {2258} INFO - iteration 76, current learner sgd\n",
      "[flaml.automl.logger: 10-15 00:43:33] {2442} INFO -  at 29.8s,\testimator sgd's best error=0.9438,\tbest estimator rf's best error=0.1583\n",
      "[flaml.automl.logger: 10-15 00:43:33] {2258} INFO - iteration 77, current learner lgbm\n",
      "[flaml.automl.logger: 10-15 00:43:34] {2442} INFO -  at 30.0s,\testimator lgbm's best error=0.1780,\tbest estimator rf's best error=0.1583\n",
      "[flaml.automl.logger: 10-15 00:43:34] {2258} INFO - iteration 78, current learner lgbm\n",
      "[flaml.automl.logger: 10-15 00:43:34] {2442} INFO -  at 30.2s,\testimator lgbm's best error=0.1780,\tbest estimator rf's best error=0.1583\n",
      "[flaml.automl.logger: 10-15 00:43:34] {2258} INFO - iteration 79, current learner xgboost\n",
      "[flaml.automl.logger: 10-15 00:43:34] {2442} INFO -  at 30.4s,\testimator xgboost's best error=0.2165,\tbest estimator rf's best error=0.1583\n",
      "[flaml.automl.logger: 10-15 00:43:34] {2258} INFO - iteration 80, current learner rf\n",
      "[flaml.automl.logger: 10-15 00:43:35] {2442} INFO -  at 31.7s,\testimator rf's best error=0.1583,\tbest estimator rf's best error=0.1583\n",
      "[flaml.automl.logger: 10-15 00:43:35] {2258} INFO - iteration 81, current learner lgbm\n",
      "[flaml.automl.logger: 10-15 00:43:36] {2442} INFO -  at 32.0s,\testimator lgbm's best error=0.1780,\tbest estimator rf's best error=0.1583\n",
      "[flaml.automl.logger: 10-15 00:43:36] {2258} INFO - iteration 82, current learner catboost\n",
      "[flaml.automl.logger: 10-15 00:43:38] {2442} INFO -  at 34.6s,\testimator catboost's best error=0.1746,\tbest estimator rf's best error=0.1583\n",
      "[flaml.automl.logger: 10-15 00:43:38] {2258} INFO - iteration 83, current learner rf\n",
      "[flaml.automl.logger: 10-15 00:43:39] {2442} INFO -  at 35.1s,\testimator rf's best error=0.1583,\tbest estimator rf's best error=0.1583\n",
      "[flaml.automl.logger: 10-15 00:43:39] {2258} INFO - iteration 84, current learner xgboost\n",
      "[flaml.automl.logger: 10-15 00:43:39] {2442} INFO -  at 35.3s,\testimator xgboost's best error=0.2165,\tbest estimator rf's best error=0.1583\n",
      "[flaml.automl.logger: 10-15 00:43:39] {2258} INFO - iteration 85, current learner xgboost\n",
      "[flaml.automl.logger: 10-15 00:43:39] {2442} INFO -  at 35.5s,\testimator xgboost's best error=0.2165,\tbest estimator rf's best error=0.1583\n",
      "[flaml.automl.logger: 10-15 00:43:39] {2258} INFO - iteration 86, current learner sgd\n",
      "[flaml.automl.logger: 10-15 00:43:39] {2442} INFO -  at 35.7s,\testimator sgd's best error=0.9438,\tbest estimator rf's best error=0.1583\n",
      "[flaml.automl.logger: 10-15 00:43:39] {2258} INFO - iteration 87, current learner xgboost\n",
      "[flaml.automl.logger: 10-15 00:43:40] {2442} INFO -  at 36.0s,\testimator xgboost's best error=0.2165,\tbest estimator rf's best error=0.1583\n",
      "[flaml.automl.logger: 10-15 00:43:40] {2258} INFO - iteration 88, current learner xgboost\n",
      "[flaml.automl.logger: 10-15 00:43:40] {2442} INFO -  at 36.2s,\testimator xgboost's best error=0.2165,\tbest estimator rf's best error=0.1583\n",
      "[flaml.automl.logger: 10-15 00:43:40] {2258} INFO - iteration 89, current learner rf\n",
      "[flaml.automl.logger: 10-15 00:43:41] {2442} INFO -  at 37.4s,\testimator rf's best error=0.1550,\tbest estimator rf's best error=0.1550\n",
      "[flaml.automl.logger: 10-15 00:43:41] {2258} INFO - iteration 90, current learner lgbm\n",
      "[flaml.automl.logger: 10-15 00:43:41] {2442} INFO -  at 37.6s,\testimator lgbm's best error=0.1780,\tbest estimator rf's best error=0.1550\n",
      "[flaml.automl.logger: 10-15 00:43:41] {2258} INFO - iteration 91, current learner sgd\n",
      "[flaml.automl.logger: 10-15 00:43:42] {2442} INFO -  at 38.7s,\testimator sgd's best error=0.9438,\tbest estimator rf's best error=0.1550\n",
      "[flaml.automl.logger: 10-15 00:43:42] {2258} INFO - iteration 92, current learner rf\n",
      "[flaml.automl.logger: 10-15 00:43:43] {2442} INFO -  at 39.4s,\testimator rf's best error=0.1550,\tbest estimator rf's best error=0.1550\n",
      "[flaml.automl.logger: 10-15 00:43:43] {2258} INFO - iteration 93, current learner catboost\n",
      "[flaml.automl.logger: 10-15 00:43:47] {2442} INFO -  at 43.8s,\testimator catboost's best error=0.1730,\tbest estimator rf's best error=0.1550\n",
      "[flaml.automl.logger: 10-15 00:43:47] {2258} INFO - iteration 94, current learner xgboost\n",
      "[flaml.automl.logger: 10-15 00:43:48] {2442} INFO -  at 44.0s,\testimator xgboost's best error=0.2165,\tbest estimator rf's best error=0.1550\n",
      "[flaml.automl.logger: 10-15 00:43:48] {2258} INFO - iteration 95, current learner xgboost\n",
      "[flaml.automl.logger: 10-15 00:43:48] {2442} INFO -  at 44.2s,\testimator xgboost's best error=0.2165,\tbest estimator rf's best error=0.1550\n",
      "[flaml.automl.logger: 10-15 00:43:48] {2258} INFO - iteration 96, current learner lgbm\n",
      "[flaml.automl.logger: 10-15 00:43:48] {2442} INFO -  at 44.4s,\testimator lgbm's best error=0.1780,\tbest estimator rf's best error=0.1550\n",
      "[flaml.automl.logger: 10-15 00:43:48] {2258} INFO - iteration 97, current learner extra_tree\n",
      "[flaml.automl.logger: 10-15 00:43:48] {2442} INFO -  at 44.8s,\testimator extra_tree's best error=0.1777,\tbest estimator rf's best error=0.1550\n",
      "[flaml.automl.logger: 10-15 00:43:48] {2258} INFO - iteration 98, current learner rf\n",
      "[flaml.automl.logger: 10-15 00:43:49] {2442} INFO -  at 45.5s,\testimator rf's best error=0.1550,\tbest estimator rf's best error=0.1550\n",
      "[flaml.automl.logger: 10-15 00:43:49] {2258} INFO - iteration 99, current learner rf\n",
      "[flaml.automl.logger: 10-15 00:43:51] {2442} INFO -  at 47.7s,\testimator rf's best error=0.1550,\tbest estimator rf's best error=0.1550\n",
      "[flaml.automl.logger: 10-15 00:43:51] {2258} INFO - iteration 100, current learner rf\n",
      "[flaml.automl.logger: 10-15 00:43:53] {2442} INFO -  at 49.1s,\testimator rf's best error=0.1550,\tbest estimator rf's best error=0.1550\n",
      "[flaml.automl.logger: 10-15 00:43:53] {2258} INFO - iteration 101, current learner lgbm\n",
      "[flaml.automl.logger: 10-15 00:43:53] {2442} INFO -  at 49.4s,\testimator lgbm's best error=0.1780,\tbest estimator rf's best error=0.1550\n",
      "[flaml.automl.logger: 10-15 00:43:53] {2258} INFO - iteration 102, current learner extra_tree\n",
      "[flaml.automl.logger: 10-15 00:43:54] {2442} INFO -  at 50.4s,\testimator extra_tree's best error=0.1647,\tbest estimator rf's best error=0.1550\n",
      "[flaml.automl.logger: 10-15 00:43:54] {2258} INFO - iteration 103, current learner extra_tree\n",
      "[flaml.automl.logger: 10-15 00:43:55] {2442} INFO -  at 51.0s,\testimator extra_tree's best error=0.1647,\tbest estimator rf's best error=0.1550\n",
      "[flaml.automl.logger: 10-15 00:43:55] {2258} INFO - iteration 104, current learner lgbm\n",
      "[flaml.automl.logger: 10-15 00:43:55] {2442} INFO -  at 51.3s,\testimator lgbm's best error=0.1780,\tbest estimator rf's best error=0.1550\n",
      "[flaml.automl.logger: 10-15 00:43:55] {2258} INFO - iteration 105, current learner extra_tree\n",
      "[flaml.automl.logger: 10-15 00:43:57] {2442} INFO -  at 53.0s,\testimator extra_tree's best error=0.1647,\tbest estimator rf's best error=0.1550\n",
      "[flaml.automl.logger: 10-15 00:43:57] {2258} INFO - iteration 106, current learner rf\n",
      "[flaml.automl.logger: 10-15 00:43:58] {2442} INFO -  at 54.1s,\testimator rf's best error=0.1550,\tbest estimator rf's best error=0.1550\n",
      "[flaml.automl.logger: 10-15 00:43:58] {2258} INFO - iteration 107, current learner xgboost\n",
      "[flaml.automl.logger: 10-15 00:43:58] {2442} INFO -  at 54.3s,\testimator xgboost's best error=0.1959,\tbest estimator rf's best error=0.1550\n",
      "[flaml.automl.logger: 10-15 00:43:58] {2258} INFO - iteration 108, current learner extra_tree\n",
      "[flaml.automl.logger: 10-15 00:43:59] {2442} INFO -  at 55.8s,\testimator extra_tree's best error=0.1622,\tbest estimator rf's best error=0.1550\n",
      "[flaml.automl.logger: 10-15 00:43:59] {2258} INFO - iteration 109, current learner rf\n",
      "[flaml.automl.logger: 10-15 00:44:02] {2442} INFO -  at 58.1s,\testimator rf's best error=0.1550,\tbest estimator rf's best error=0.1550\n",
      "[flaml.automl.logger: 10-15 00:44:02] {2258} INFO - iteration 110, current learner extra_tree\n",
      "[flaml.automl.logger: 10-15 00:44:02] {2442} INFO -  at 58.8s,\testimator extra_tree's best error=0.1622,\tbest estimator rf's best error=0.1550\n",
      "[flaml.automl.logger: 10-15 00:44:02] {2258} INFO - iteration 111, current learner xgboost\n",
      "[flaml.automl.logger: 10-15 00:44:03] {2442} INFO -  at 59.1s,\testimator xgboost's best error=0.1959,\tbest estimator rf's best error=0.1550\n",
      "[flaml.automl.logger: 10-15 00:44:03] {2258} INFO - iteration 112, current learner lgbm\n",
      "[flaml.automl.logger: 10-15 00:44:03] {2442} INFO -  at 59.3s,\testimator lgbm's best error=0.1780,\tbest estimator rf's best error=0.1550\n",
      "[flaml.automl.logger: 10-15 00:44:03] {2258} INFO - iteration 113, current learner xgboost\n",
      "[flaml.automl.logger: 10-15 00:44:03] {2442} INFO -  at 59.6s,\testimator xgboost's best error=0.1959,\tbest estimator rf's best error=0.1550\n",
      "[flaml.automl.logger: 10-15 00:44:03] {2258} INFO - iteration 114, current learner xgboost\n",
      "[flaml.automl.logger: 10-15 00:44:03] {2442} INFO -  at 59.8s,\testimator xgboost's best error=0.1959,\tbest estimator rf's best error=0.1550\n",
      "[flaml.automl.logger: 10-15 00:44:03] {2258} INFO - iteration 115, current learner xgb_limitdepth\n",
      "[flaml.automl.logger: 10-15 00:44:04] {2442} INFO -  at 60.0s,\testimator xgb_limitdepth's best error=0.6432,\tbest estimator rf's best error=0.1550\n",
      "[flaml.automl.logger: 10-15 00:44:04] {2685} INFO - retrain rf for 0.2s\n",
      "[flaml.automl.logger: 10-15 00:44:04] {2688} INFO - retrained model: RandomForestRegressor(max_features=0.6822524215254953, max_leaf_nodes=118,\n",
      "                      n_estimators=54, n_jobs=-1, random_state=12032022)\n",
      "[flaml.automl.logger: 10-15 00:44:04] {1985} INFO - fit succeeded\n",
      "[flaml.automl.logger: 10-15 00:44:04] {1986} INFO - Time taken to find the best model: 37.37557601928711\n"
     ]
    }
   ],
   "source": [
    "# model = TPOTRegressor(generations=5, population_size=50, scoring='accuracy', verbosity=2, random_state=1, n_jobs=-1)\n",
    "# model.fit(x_train, y_train)\n",
    "automl = AutoML()\n",
    "automl.fit(x_train, y_train, task=\"regression\", time_budget=60)\n"
   ]
  },
  {
   "cell_type": "code",
   "execution_count": 10,
   "id": "5fe603e7",
   "metadata": {
    "execution": {
     "iopub.execute_input": "2024-10-15T00:44:04.449260Z",
     "iopub.status.busy": "2024-10-15T00:44:04.448748Z",
     "iopub.status.idle": "2024-10-15T00:44:04.495847Z",
     "shell.execute_reply": "2024-10-15T00:44:04.494645Z"
    },
    "papermill": {
     "duration": 0.082647,
     "end_time": "2024-10-15T00:44:04.498595",
     "exception": false,
     "start_time": "2024-10-15T00:44:04.415948",
     "status": "completed"
    },
    "tags": []
   },
   "outputs": [
    {
     "name": "stdout",
     "output_type": "stream",
     "text": [
      "Predictions: [ 455.64520241 1220.33531178 1332.37307501 1962.28817205  951.47597962\n",
      " 1425.85661748  916.37526367  932.38902511 1267.76706076 1124.45022871\n",
      " 1887.72325458  543.25856083  674.14346526  790.97228655  789.85961225\n",
      "  480.45981096 1205.36701945  982.03139895  681.49765006 2560.72444347\n",
      "  629.57625202  428.50364412 1214.09652501  765.44475475 1996.79468617\n",
      "  937.76135641  406.12294155 1361.3526727  1027.50074205 1400.80618305\n",
      "  801.68032684  930.60693646 1029.70093857  760.89369331  978.76396351\n",
      "  723.95820633  953.55248301  717.78214567  583.89270067  356.34346152\n",
      " 1471.0918899   315.0691842  1370.09363986 1018.64431121  510.24813826\n",
      "  388.20467676  482.31004587  741.96299458  564.17009111 1206.07872902\n",
      "  929.13148989  785.61971985  977.65354342  383.90482711 1144.32955073\n",
      " 1068.44661376  941.72904239  598.57916671  550.52020049 1204.33455958\n",
      " 1282.62900858  389.2898217   572.87815087 1065.68644466  727.0321062\n",
      "  719.08198336 1178.82090902 1203.79322752  843.14585413 1270.26050112\n",
      "  481.22573566  421.99206746 1316.48414143  455.31078161 1514.54509958\n",
      "  832.9236128  1330.87539353 1897.24921713  927.75820861  456.70385571\n",
      " 1225.39773209  692.99676631  322.28006514  356.34346152  990.29035976\n",
      "  384.08533545  812.15823438  356.34346152 2686.41003651 1265.52381657\n",
      " 1478.82062943 1761.22084632 2796.38370229  567.27155582  507.50784291\n",
      "  651.13879502 1529.99039532 2649.7540001   668.62659569  958.47735019\n",
      "  804.53476716 2027.90115638 1529.31166847 1106.67181863 1443.61733177\n",
      "  822.48050294 1838.99501542 1816.29196912  555.98781102  315.0691842\n",
      "  797.35892067  656.76614092 1819.74079177  783.30354238  792.11805962\n",
      " 2016.17852806 1586.77796527  356.77503369  545.00000352  658.08495894\n",
      "  446.77399786  691.06559324 1700.13975324  317.28306537 1443.20080263\n",
      " 2086.17185077 1870.65565203  481.98060464 1380.79386778 1215.28211718\n",
      "  769.20477117  635.42901905  773.47427033  519.64829454 1507.21237628\n",
      " 1517.90429559  356.34346152  739.99001704  599.07713911 1630.01721004\n",
      "  460.4758709   315.0691842  1074.60261004  796.44349956  455.31078161\n",
      " 1005.16452866 1970.32595022  646.87016612  599.30707036  758.35229168\n",
      " 1419.68335731 2860.40339791  761.76251269 1089.25402954 1404.20910309\n",
      "  714.90573809  551.79595836 1157.74142285 1168.31396822  557.9517174\n",
      "  463.14024616  944.05476538  535.36515397 1747.29492039 1913.12834113\n",
      " 1612.05754772  483.00261793 1486.12864595 1587.02780001  833.39590939\n",
      "  666.41723167  947.87986277  459.84578892  590.06849937 1327.56937612\n",
      " 1215.93303411 1300.06093908  431.86071604 1771.02591766 1166.89203715\n",
      "  705.96631635  667.09345515 2203.38388105  735.29207305  456.39220424\n",
      " 1324.89162988  340.91393722 1291.4897611   836.04849584  485.35640503\n",
      "  999.39987157  582.65704141  768.44455004  683.09250714  980.38328762\n",
      "  530.87885851 1839.74669224  455.31902511  433.85185988  504.95658072\n",
      "  471.55686724  474.6952558  1265.52381657 1425.78396184 2048.67757637\n",
      "  676.88555506  946.25967552  315.0691842   590.02189533 2280.86710316\n",
      "  421.99206746  595.7510568   368.92890134  984.1157336   484.27553884\n",
      " 1038.18859996  640.43147369  900.82152199  431.24182535 1479.83548831\n",
      "  706.03088935  496.02884064  316.02902415 1461.36375043 1373.75140055\n",
      " 2129.65528572 1271.56816635 1587.25753778  489.36033245  704.06020811\n",
      "  555.76095044 1346.72835209  874.38149107  743.709645    723.70441855\n",
      "  926.22167861  494.50544142  372.43359706  716.15902281  966.94380845\n",
      "  745.40560461  789.52308396  788.8968803   546.69402805  340.91393722\n",
      "  696.07502292 1020.13976618  936.66322534  890.24775608  483.32029194\n",
      " 1101.01200049 1623.34113205 1459.01753354 1124.62508204 2014.12591306]\n",
      "Best model: rf\n"
     ]
    }
   ],
   "source": [
    "# Evaluate the model\n",
    "y_pred = automl.predict(x_test)\n",
    "print(\"Predictions:\", y_pred)\n",
    "\n",
    "# Optionally, you can check the best model\n",
    "print(\"Best model:\", automl.best_estimator)"
   ]
  },
  {
   "cell_type": "code",
   "execution_count": 11,
   "id": "07390118",
   "metadata": {
    "execution": {
     "iopub.execute_input": "2024-10-15T00:44:04.561984Z",
     "iopub.status.busy": "2024-10-15T00:44:04.561523Z",
     "iopub.status.idle": "2024-10-15T00:44:05.016554Z",
     "shell.execute_reply": "2024-10-15T00:44:05.015480Z"
    },
    "papermill": {
     "duration": 0.490187,
     "end_time": "2024-10-15T00:44:05.019583",
     "exception": false,
     "start_time": "2024-10-15T00:44:04.529396",
     "status": "completed"
    },
    "tags": []
   },
   "outputs": [
    {
     "data": {
      "image/png": "[encoded data removed]",
      "text/plain": [
       "<Figure size 1000x600 with 1 Axes>"
      ]
     },
     "metadata": {},
     "output_type": "display_data"
    }
   ],
   "source": [
    "# Plotting the results\n",
    "plt.figure(figsize=(10, 6))\n",
    "sns.scatterplot(x=y_test, y=y_pred)\n",
    "plt.xlabel('Actual Values')\n",
    "plt.ylabel('Predicted Values')\n",
    "plt.title('Actual vs Predicted Values')\n",
    "plt.plot([y_test.min(), y_test.max()], [y_test.min(), y_test.max()], 'r--')  # Diagonal line\n",
    "plt.xlim(y_test.min(), y_test.max())\n",
    "plt.ylim(y_test.min(), y_test.max())\n",
    "plt.grid()\n",
    "plt.show()"
   ]
  },
  {
   "cell_type": "markdown",
   "id": "8474d0e3",
   "metadata": {
    "papermill": {
     "duration": 0.031783,
     "end_time": "2024-10-15T00:44:05.085128",
     "exception": false,
     "start_time": "2024-10-15T00:44:05.053345",
     "status": "completed"
    },
    "tags": []
   },
   "source": [
    "## Explanation of the Plots\n",
    "\n",
    "### Scatter Plot\n",
    "The scatter plot shows the actual values on the x-axis and the predicted values on the y-axis. Each point represents an individual prediction.\n",
    "\n",
    "### Diagonal Line\n",
    "The red dashed line represents the ideal scenario where predicted values equal actual values. Points close to this line indicate better predictions, while points further away indicate larger prediction errors.\n",
    "\n",
    "### Axes Labels and Title\n",
    "The plot includes labels for both axes and a title for clarity, helping to communicate the relationship between actual and predicted values effectively.\n"
   ]
  },
  {
   "cell_type": "code",
   "execution_count": 12,
   "id": "d884daf8",
   "metadata": {
    "execution": {
     "iopub.execute_input": "2024-10-15T00:44:05.151612Z",
     "iopub.status.busy": "2024-10-15T00:44:05.151168Z",
     "iopub.status.idle": "2024-10-15T00:44:05.552119Z",
     "shell.execute_reply": "2024-10-15T00:44:05.550924Z"
    },
    "papermill": {
     "duration": 0.43784,
     "end_time": "2024-10-15T00:44:05.554708",
     "exception": false,
     "start_time": "2024-10-15T00:44:05.116868",
     "status": "completed"
    },
    "tags": []
   },
   "outputs": [
    {
     "data": {
      "image/png": "[encoded data removed]",
      "text/plain": [
       "<Figure size 1000x600 with 1 Axes>"
      ]
     },
     "metadata": {},
     "output_type": "display_data"
    }
   ],
   "source": [
    "# Calculate residuals\n",
    "residuals = y_test - y_pred\n",
    "\n",
    "# Residual Plot\n",
    "plt.figure(figsize=(10, 6))\n",
    "sns.scatterplot(x=y_pred, y=residuals)\n",
    "plt.axhline(0, color='red', linestyle='--')  # Line at 0 for reference\n",
    "plt.xlabel('Predicted Values')\n",
    "plt.ylabel('Residuals')\n",
    "plt.title('Residual Plot')\n",
    "plt.grid()\n",
    "plt.show()"
   ]
  },
  {
   "cell_type": "markdown",
   "id": "d71df027",
   "metadata": {
    "papermill": {
     "duration": 0.032263,
     "end_time": "2024-10-15T00:44:05.619396",
     "exception": false,
     "start_time": "2024-10-15T00:44:05.587133",
     "status": "completed"
    },
    "tags": []
   },
   "source": [
    "## Explanation of the Plots\n",
    "\n",
    "### Residual Plot\n",
    "The residual plot shows the residuals (errors) on the y-axis against the predicted values (or actual values) on the x-axis. Each point represents the difference between the actual and predicted values for a given observation.\n",
    "\n",
    "- **Red Horizontal Line**: The red dashed line at zero serves as a reference. Ideally, the residuals should be randomly distributed around this line, indicating that the model's predictions are unbiased."
   ]
  },
  {
   "cell_type": "code",
   "execution_count": 13,
   "id": "870d7476",
   "metadata": {
    "execution": {
     "iopub.execute_input": "2024-10-15T00:44:05.686943Z",
     "iopub.status.busy": "2024-10-15T00:44:05.686484Z",
     "iopub.status.idle": "2024-10-15T00:44:06.127796Z",
     "shell.execute_reply": "2024-10-15T00:44:06.126518Z"
    },
    "papermill": {
     "duration": 0.478288,
     "end_time": "2024-10-15T00:44:06.130462",
     "exception": false,
     "start_time": "2024-10-15T00:44:05.652174",
     "status": "completed"
    },
    "tags": []
   },
   "outputs": [
    {
     "data": {
      "image/png": "[encoded data removed]",
      "text/plain": [
       "<Figure size 1000x600 with 1 Axes>"
      ]
     },
     "metadata": {},
     "output_type": "display_data"
    }
   ],
   "source": [
    "# Histogram of Errors\n",
    "plt.figure(figsize=(10, 6))\n",
    "sns.histplot(residuals, bins=30, kde=True)  # KDE adds a kernel density estimate\n",
    "plt.xlabel('Residuals')\n",
    "plt.ylabel('Frequency')\n",
    "plt.title('Histogram of Residuals')\n",
    "plt.grid()\n",
    "plt.show()"
   ]
  },
  {
   "cell_type": "markdown",
   "id": "11e80b31",
   "metadata": {
    "papermill": {
     "duration": 0.03313,
     "end_time": "2024-10-15T00:44:06.197884",
     "exception": false,
     "start_time": "2024-10-15T00:44:06.164754",
     "status": "completed"
    },
    "tags": []
   },
   "source": [
    "## Explanation of the Plots\n",
    "\n",
    "\n",
    "### Histogram of Residuals\n",
    "The histogram displays the distribution of residuals (errors) on the x-axis and their frequency on the y-axis.\n",
    "\n",
    "- **KDE (Kernel Density Estimate)**: The curve overlaid on the histogram shows the estimated probability density of the residuals. \n",
    "- **Ideal Distribution**: A normal distribution centered around zero indicates that the model's errors are consistent and not biased in one direction. Deviations from this can signal issues with the model.\n",
    "\n"
   ]
  }
 ],
 "metadata": {
  "kaggle": {
   "accelerator": "none",
   "dataSources": [
    {
     "datasetId": 5669158,
     "sourceId": 9352248,
     "sourceType": "datasetVersion"
    }
   ],
   "dockerImageVersionId": 30786,
   "isGpuEnabled": false,
   "isInternetEnabled": true,
   "language": "python",
   "sourceType": "notebook"
  },
  "kernelspec": {
   "display_name": "Python 3",
   "language": "python",
   "name": "python3"
  },
  "language_info": {
   "codemirror_mode": {
    "name": "ipython",
    "version": 3
   },
   "file_extension": ".py",
   "mimetype": "text/x-python",
   "name": "python",
   "nbconvert_exporter": "python",
   "pygments_lexer": "ipython3",
   "version": "3.10.14"
  },
  "papermill": {
   "default_parameters": {},
   "duration": 99.558037,
   "end_time": "2024-10-15T00:44:08.830709",
   "environment_variables": {},
   "exception": null,
   "input_path": "__notebook__.ipynb",
   "output_path": "__notebook__.ipynb",
   "parameters": {},
   "start_time": "2024-10-15T00:42:29.272672",
   "version": "2.6.0"
  }
 },
 "nbformat": 4,
 "nbformat_minor": 5
}
