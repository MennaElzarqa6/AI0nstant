{
 "cells": [
  {
   "cell_type": "markdown",
   "id": "759d04ba",
   "metadata": {},
   "source": [
    "**1-Write a Python program to calculate the length of a string using 2 ways"
   ]
  },
  {
   "cell_type": "markdown",
   "metadata": {},
   "source": []
  },
  {
   "cell_type": "code",
   "execution_count": 79,
   "id": "e434c950",
   "metadata": {},
   "outputs": [
    {
     "data": {
      "text/plain": [
       "7"
      ]
     },
     "execution_count": 79,
     "metadata": {},
     "output_type": "execute_result"
    }
   ],
   "source": [
    "#1st way \n",
    "name = \"leminho\"\n",
    "len(name)"
   ]
  },
  {
   "cell_type": "code",
   "execution_count": 80,
   "id": "7a2dfa32",
   "metadata": {},
   "outputs": [
    {
     "name": "stdout",
     "output_type": "stream",
     "text": [
      "7\n"
     ]
    }
   ],
   "source": [
    "#2nd way \n",
    "name = \"leminho\"\n",
    "print(name.index(name[-1])+1)"
   ]
  },
  {
   "cell_type": "markdown",
   "id": "d7cc9da7",
   "metadata": {},
   "source": [
    "**2-Write a Python program to get a string made of the first 2 and last 2 characters of a given string. If the string length is less than 2, return the empty string instead (\"##Sample String : 'w3resource'\n",
    "Expected Result : 'w3ce'\n",
    "##Sample String : 'w3'\n",
    "Expected Result : 'w3w3'\n",
    "##Sample String : ' w'\n",
    "Expected Result : Empty String)"
   ]
  },
  {
   "cell_type": "code",
   "execution_count": 81,
   "id": "dafa9dd8",
   "metadata": {},
   "outputs": [
    {
     "name": "stdout",
     "output_type": "stream",
     "text": [
      "w3ce\n",
      "w3w3\n",
      " << empty string \n"
     ]
    }
   ],
   "source": [
    "str_word = ['w3resource','w3w3','w']\n",
    "length = len(str_word)\n",
    "for i in range(length):\n",
    "    if len(str_word[i])>2:\n",
    "        str_concatination = str_word[i][0:2] + str_word[i][-2:]\n",
    "        print(str_concatination)\n",
    "    else :\n",
    "        print('',\"<< empty string \")"
   ]
  },
  {
   "cell_type": "markdown",
   "id": "1534f956",
   "metadata": {},
   "source": [
    "**3-Write a Python program to add 'ing' at the end of a given string (length should be at least 3). If the given string already ends with 'ing', add 'ly' instead. If the string length of the given string is less than 3, leave it unchanged. (Sample String : 'abc'\n",
    "Expected Result : 'abcing')"
   ]
  },
  {
   "cell_type": "code",
   "execution_count": 85,
   "id": "7ff8cec4",
   "metadata": {},
   "outputs": [
    {
     "name": "stdout",
     "output_type": "stream",
     "text": [
      "7\n",
      "playingly\n"
     ]
    }
   ],
   "source": [
    "input_str = input(\"please write here\")\n",
    "leng = len(input_str)\n",
    "print(leng)\n",
    "if (leng>=3):\n",
    "    if input_str[-3:] == 'ing':\n",
    "        result = ''.join([input_str,'ly'])\n",
    "    else:\n",
    "        result = ''.join([input_str,'ing'])\n",
    "else :\n",
    "    result = input_str\n",
    "        \n",
    "print(result)\n",
    "        \n"
   ]
  },
  {
   "cell_type": "markdown",
   "id": "1c0a6627",
   "metadata": {},
   "source": [
    "**4-Write a Python function that takes a list of words and return the longest word and the length of the longest one\n",
    "(Longest word: Exercises\n",
    "Length of the longest word: 9)"
   ]
  },
  {
   "cell_type": "code",
   "execution_count": 83,
   "id": "397341d9",
   "metadata": {},
   "outputs": [
    {
     "data": {
      "text/plain": [
       "('Exercises', 9)"
      ]
     },
     "execution_count": 83,
     "metadata": {},
     "output_type": "execute_result"
    }
   ],
   "source": [
    "def longest_word(L):\n",
    "    len_word = 0\n",
    "    index = 0\n",
    "    for i in range (len(L)):\n",
    "        if (len_word < len(L[i])):\n",
    "            len_word = len(L[i])\n",
    "            index = i \n",
    "    long_word = L[index]\n",
    "    return long_word, len_word\n",
    "\n",
    "list0 = ['here','we','practice','our','Exercises']\n",
    "longest_word(list0)"
   ]
  },
  {
   "cell_type": "markdown",
   "id": "53a03a6a",
   "metadata": {},
   "source": [
    "**5-Write a Python program to change a given string to a newly string where the first and last chars have been exchanged using 2 ways (Sample String:abce Expected Result:ebca)"
   ]
  },
  {
   "cell_type": "code",
   "execution_count": 87,
   "id": "fd327d2a",
   "metadata": {},
   "outputs": [
    {
     "name": "stdout",
     "output_type": "stream",
     "text": [
      "ebca\n"
     ]
    }
   ],
   "source": [
    "# first method \n",
    "samp_list = list(input(\"please enter the sample\"))\n",
    "samp_list[-1], samp_list[0] = samp_list[0] , samp_list[-1]\n",
    "samp_out = ''.join(samp_list)\n",
    "print(samp_out)"
   ]
  },
  {
   "cell_type": "code",
   "execution_count": null,
   "id": "285788b4",
   "metadata": {
    "scrolled": true
   },
   "outputs": [
    {
     "name": "stdout",
     "output_type": "stream",
     "text": [
      "please input string abce\n"
     ]
    },
    {
     "data": {
      "text/plain": [
       "'ebca'"
      ]
     },
     "execution_count": 106,
     "metadata": {},
     "output_type": "execute_result"
    }
   ],
   "source": [
    "# second method\n",
    "def swap(str):\n",
    "    return (str[-1] + str[1:-1] + str [0] )\n",
    "in_str = input(\"please input string\")\n",
    "swap(in_str)"
   ]
  },
  {
   "cell_type": "markdown",
   "id": "25f89808",
   "metadata": {},
   "source": [
    "**6-Write a Python program to remove characters that have odd index values in a given string (Sample String:abca Expected Result:ac)"
   ]
  },
  {
   "cell_type": "code",
   "execution_count": null,
   "id": "05959bd7",
   "metadata": {},
   "outputs": [
    {
     "name": "stdout",
     "output_type": "stream",
     "text": [
      "ac\n"
     ]
    }
   ],
   "source": [
    "str = \"abce\"\n",
    "result = ''\n",
    "for i in range(len(str)):\n",
    "    if (i%2) == 0:\n",
    "        result += str[i]\n",
    "print(result)"
   ]
  },
  {
   "cell_type": "markdown",
   "id": "eb16e898",
   "metadata": {},
   "source": [
    "**7-Write a Python program to count the occurrences of each word in a given sentence (Sample String:amr and ahmed are frindes but amr is the tallest Expected Result:2)"
   ]
  },
  {
   "cell_type": "code",
   "execution_count": null,
   "id": "01ce6cf5",
   "metadata": {},
   "outputs": [
    {
     "name": "stdout",
     "output_type": "stream",
     "text": [
      "0 word occurance num =  2\n",
      "1 word occurance num =  1\n",
      "2 word occurance num =  1\n",
      "3 word occurance num =  1\n",
      "4 word occurance num =  1\n",
      "5 word occurance num =  1\n",
      "6 word occurance num =  2\n",
      "7 word occurance num =  1\n",
      "8 word occurance num =  1\n",
      "9 word occurance num =  1\n"
     ]
    }
   ],
   "source": [
    "str_in = \"amr and ahmed are frindes but amr is the tallest\"\n",
    "list_in = str_in.split()\n",
    "for i in range(len(list_in)):\n",
    "    count_n = list_in.count(list_in[i])\n",
    "    print(f\"{i} word occurance num = \", count_n)\n"
   ]
  },
  {
   "cell_type": "markdown",
   "id": "4e8125f1",
   "metadata": {},
   "source": [
    "**8-Write a Python script that takes input from the user and displays that input back in upper and lower cases"
   ]
  },
  {
   "cell_type": "code",
   "execution_count": null,
   "id": "66c8f778",
   "metadata": {},
   "outputs": [
    {
     "name": "stdout",
     "output_type": "stream",
     "text": [
      "please input string who is HERE?\n"
     ]
    },
    {
     "name": "stdout",
     "output_type": "stream",
     "text": [
      "WHO IS HERE? \n",
      " who is here?\n"
     ]
    }
   ],
   "source": [
    "str_in0 = input(\"please input string\")\n",
    "print(str_in0.upper(),'\\n',str_in0.lower())"
   ]
  },
  {
   "cell_type": "markdown",
   "id": "fcd68aa1",
   "metadata": {},
   "source": [
    "**9-Write a Python function to reverse a string if its length is a multiple of 4"
   ]
  },
  {
   "cell_type": "code",
   "execution_count": null,
   "id": "0671a931",
   "metadata": {},
   "outputs": [
    {
     "name": "stdout",
     "output_type": "stream",
     "text": [
      "please input string hell\n"
     ]
    },
    {
     "name": "stdout",
     "output_type": "stream",
     "text": [
      "lleh\n"
     ]
    }
   ],
   "source": [
    "def reverse_mult4(strin):\n",
    "    if (len(strIN) % 4) == 0:\n",
    "        res = strIN[::-1]\n",
    "    else :\n",
    "        res = strIN\n",
    "    return print(res)\n",
    "strIN = input(\"please input string\")\n",
    "reverse_mult4(strIN)"
   ]
  },
  {
   "cell_type": "markdown",
   "id": "b577c68d",
   "metadata": {},
   "source": [
    "**10- Write a Python program to remove a newline in Python"
   ]
  },
  {
   "cell_type": "code",
   "execution_count": null,
   "id": "e0c6525a",
   "metadata": {},
   "outputs": [
    {
     "name": "stdout",
     "output_type": "stream",
     "text": [
      "hello and hi not ciao\n"
     ]
    }
   ],
   "source": [
    "greeting = \"hello and hi not ciao\\n\"\n",
    "gre_res = greeting.strip()\n",
    "print(gre_res)"
   ]
  },
  {
   "cell_type": "markdown",
   "id": "80db5ae0",
   "metadata": {},
   "source": [
    "**11-Write a Python program to check whether a string starts with specified characters"
   ]
  },
  {
   "cell_type": "code",
   "execution_count": null,
   "id": "0cc4e03e",
   "metadata": {},
   "outputs": [
    {
     "name": "stdout",
     "output_type": "stream",
     "text": [
      "please input check characters hello\n"
     ]
    },
    {
     "name": "stdout",
     "output_type": "stream",
     "text": [
      "False the string does not start with XXXX hello\n"
     ]
    }
   ],
   "source": [
    "introduce = \"hi my name is joe and i am ballerina\"\n",
    "check_chrs = input(\"please input check characters\")\n",
    "if introduce[0:len(check_chrs)] == check_chrs:\n",
    "    print(\"True the string start with\", check_chrs)\n",
    "else :\n",
    "    print(\"False the string does not start with XXXX\",check_chrs)\n",
    "    "
   ]
  },
  {
   "cell_type": "markdown",
   "id": "593a68db",
   "metadata": {},
   "source": [
    "**12- Write a Python program to add prefix text to all of the lines in a string"
   ]
  },
  {
   "cell_type": "code",
   "execution_count": null,
   "id": "d2e46ada",
   "metadata": {},
   "outputs": [
    {
     "name": "stdout",
     "output_type": "stream",
     "text": [
      "**Once upon a time there was a dear little girl\n",
      "** who was loved by every one who looked at her\n",
      "** but most of all by her grandmother\n",
      "** and there was nothing that she would not have given to the child.\n",
      "** Once she gave her a little cap of red velvet\n",
      "** which suited her so well \n",
      "**that she would never wear anything else.\n",
      "** So she was always called Little Red Riding Hood.\n",
      "\n"
     ]
    }
   ],
   "source": [
    "story = \"Once upon a time there was a dear little girl, who was loved by every one who looked at her, but most of all by her grandmother, and there was nothing that she would not have given to the child., Once she gave her a little cap of red velvet, which suited her so well ,that she would never wear anything else., So she was always called Little Red Riding Hood.\"\n",
    "story_line_list = story.split(\",\")\n",
    "\n",
    "for line in range(len(story_line_list)):\n",
    "    story_line_list[line] = \"**\" + story_line_list[line] + '\\n'\n",
    "    #print(story_line_list[line])\n",
    "print(''.join(story_line_list))\n"
   ]
  },
  {
   "cell_type": "markdown",
   "id": "86fa1543",
   "metadata": {},
   "source": [
    "**13-Write a Python program to print the following numbers up to 2 decimal places"
   ]
  },
  {
   "cell_type": "code",
   "execution_count": null,
   "id": "cd4a9d89",
   "metadata": {},
   "outputs": [
    {
     "name": "stdout",
     "output_type": "stream",
     "text": [
      "552.03\n",
      "45\n",
      "0.12\n",
      "55.25\n",
      "0.07\n",
      "1.5\n"
     ]
    }
   ],
   "source": [
    "NUM_list = [552.0334, 45, 0.1154 , 55.25 , 0.0666 , 1.5]\n",
    "for i in range(len(NUM_list)):\n",
    "    NUM_list[i] = round(NUM_list[i],2)\n",
    "    print(NUM_list[i])\n",
    "#print(NUM_list)"
   ]
  },
  {
   "cell_type": "markdown",
   "id": "452c0ab0",
   "metadata": {},
   "source": [
    "**14-Write a Python program to print the following numbers up to 2 decimal places with a sign"
   ]
  },
  {
   "cell_type": "code",
   "execution_count": null,
   "id": "73e82479",
   "metadata": {},
   "outputs": [
    {
     "name": "stdout",
     "output_type": "stream",
     "text": [
      "+ 552.03\n",
      "-45\n",
      "+ 0.12\n",
      "-55.25\n",
      "-0.07\n",
      "+ 1.5\n"
     ]
    }
   ],
   "source": [
    "NUM_list = [552.0334, - 45, 0.1154 , - 55.25 , - 0.0666 , 1.5]\n",
    "for i in range(len(NUM_list)):\n",
    "    NUM_list[i] = round(NUM_list[i],2)\n",
    "    if NUM_list[i] > 0 :\n",
    "        print('+' , NUM_list[i])\n",
    "    else :\n",
    "        print(NUM_list[i])\n",
    "#print(NUM_list)"
   ]
  },
  {
   "cell_type": "markdown",
   "id": "32b1811a",
   "metadata": {},
   "source": [
    "**15-Write a Python program to display a number with a comma separator"
   ]
  },
  {
   "cell_type": "code",
   "execution_count": null,
   "id": "f30fc0b6",
   "metadata": {},
   "outputs": [
    {
     "name": "stdout",
     "output_type": "stream",
     "text": [
      "please enter num 1000\n"
     ]
    },
    {
     "name": "stdout",
     "output_type": "stream",
     "text": [
      "1,000\n"
     ]
    }
   ],
   "source": [
    "num = int(input(\"please enter num\"))\n",
    "print(f\"{num:,}\")"
   ]
  },
  {
   "cell_type": "markdown",
   "id": "0477f487",
   "metadata": {},
   "source": [
    "**16-Write a Python program to reverse a string using 2 ways"
   ]
  },
  {
   "cell_type": "code",
   "execution_count": null,
   "id": "aa8beec8",
   "metadata": {},
   "outputs": [
    {
     "name": "stdout",
     "output_type": "stream",
     "text": [
      "please input string hello any body here !\n"
     ]
    },
    {
     "name": "stdout",
     "output_type": "stream",
     "text": [
      "! ereh ydob yna olleh\n"
     ]
    }
   ],
   "source": [
    "#method 1 \n",
    "strinput = input(\"please input string\")\n",
    "print(strinput[::-1])"
   ]
  },
  {
   "cell_type": "code",
   "execution_count": null,
   "id": "bcd7e079-feec-4770-a766-c18ecd839da3",
   "metadata": {},
   "outputs": [
    {
     "name": "stdout",
     "output_type": "stream",
     "text": [
      "please input string hello any body here !\n"
     ]
    },
    {
     "name": "stdout",
     "output_type": "stream",
     "text": [
      "! ereh ydob yna olleh\n"
     ]
    }
   ],
   "source": [
    "#method 1 \n",
    "strinput = input(\"please input string\")\n",
    "print(strinput[::-1])"
   ]
  },
  {
   "cell_type": "code",
   "execution_count": null,
   "id": "248b5c3e-cdcf-4828-bccf-4510e861b5ed",
   "metadata": {},
   "outputs": [
    {
     "name": "stdout",
     "output_type": "stream",
     "text": [
      "please input string :  hello from the other world\n"
     ]
    },
    {
     "name": "stdout",
     "output_type": "stream",
     "text": [
      "dlrow rehto eht morf olleh\n"
     ]
    }
   ],
   "source": [
    "#method 2\n",
    "strinput = input(\"please input string : \")\n",
    "print(''.join(reversed(strinput))) # reverse output is a list "
   ]
  },
  {
   "cell_type": "markdown",
   "id": "5afc3166",
   "metadata": {},
   "source": [
    " **17-Write a Python program to count repeated characters in a string (hint:use dictionary)"
   ]
  },
  {
   "cell_type": "code",
   "execution_count": null,
   "id": "515a469c",
   "metadata": {},
   "outputs": [
    {
     "data": {
      "text/plain": [
       "{'strory:': 1,\n",
       " 'once': 1,\n",
       " 'upon': 1,\n",
       " 'a': 3,\n",
       " 'time': 1,\n",
       " 'bear': 2,\n",
       " 'climed': 1,\n",
       " 'tree': 2,\n",
       " 'in': 1,\n",
       " 'the': 3,\n",
       " 'forest': 1,\n",
       " 'with': 1,\n",
       " 'his': 1,\n",
       " 'mother': 1,\n",
       " 'bear,': 1,\n",
       " 'and': 1,\n",
       " 'story': 1}"
      ]
     },
     "execution_count": 6,
     "metadata": {},
     "output_type": "execute_result"
    }
   ],
   "source": [
    "s = \" strory: once upon a time a bear climed a tree in the forest with his mother bear, the tree and the bear story\"\n",
    "s_list = s.split()\n",
    "dict = {}\n",
    "for i in range(len(s_list)):\n",
    "    occu_num = s_list.count(s_list[i]) \n",
    "    dict[s_list[i]] = occu_num\n",
    "dict"
   ]
  },
  {
   "cell_type": "markdown",
   "id": "ae14e4e5",
   "metadata": {},
   "source": [
    "**18-Write a Python program to find the first non-repeating character in a given string"
   ]
  },
  {
   "cell_type": "code",
   "execution_count": null,
   "id": "d73778e5",
   "metadata": {},
   "outputs": [
    {
     "name": "stdout",
     "output_type": "stream",
     "text": [
      "u\n"
     ]
    }
   ],
   "source": [
    "str00 = \"onw upon a time there was a rappit family\"\n",
    "str00_list = list(str00)\n",
    "for i in range(len(str00_list)):\n",
    "    count_num = str00_list.count(str00_list[i])\n",
    "    if count_num == 1 :\n",
    "        print(str00_list[i])\n",
    "        break  "
   ]
  },
  {
   "cell_type": "markdown",
   "id": "3adf5669",
   "metadata": {},
   "source": [
    "**19-Write a Python program to remove spaces from a given string"
   ]
  },
  {
   "cell_type": "code",
   "execution_count": 89,
   "id": "b4f22602",
   "metadata": {},
   "outputs": [
    {
     "name": "stdout",
     "output_type": "stream",
     "text": [
      "onceuponatimetherewasarappitfamily\n"
     ]
    }
   ],
   "source": [
    "str= \"once upon a time there was a rappit family\"\n",
    "print(str.replace(\" \", \"\"))\n",
    "# print(''.join(str.split())) ## other method\n",
    "\n"
   ]
  },
  {
   "cell_type": "markdown",
   "id": "734de60c",
   "metadata": {},
   "source": [
    "**20-Write a Python program to count the number of non-empty substrings of a given string"
   ]
  },
  {
   "cell_type": "code",
   "execution_count": null,
   "id": "ef3f2274",
   "metadata": {},
   "outputs": [
    {
     "name": "stdout",
     "output_type": "stream",
     "text": [
      "1\n",
      "1\n",
      "2\n",
      "1\n",
      "1\n",
      "1\n",
      "2\n",
      "1\n",
      "1\n"
     ]
    }
   ],
   "source": [
    "str_list = str.split()\n",
    "for i in range(len(str_list)):\n",
    "    counter = str_list.count(str_list[i])\n",
    "    print(counter)"
   ]
  },
  {
   "cell_type": "markdown",
   "id": "509998e2",
   "metadata": {},
   "source": [
    "**21-write a Python program to swap first and last element of any list."
   ]
  },
  {
   "cell_type": "code",
   "execution_count": null,
   "id": "68692d7f",
   "metadata": {},
   "outputs": [
    {
     "name": "stdout",
     "output_type": "stream",
     "text": [
      "[10, 2024, 'kareem', 'march', 'ramdan']\n"
     ]
    }
   ],
   "source": [
    "list_Bswap = ['ramdan', 2024 , 'kareem' , 'march', 10]\n",
    "list_Bswap[0], list_Bswap[-1] = list_Bswap[-1],list_Bswap[0]\n",
    "print(list_Bswap) "
   ]
  },
  {
   "cell_type": "markdown",
   "id": "959e0837",
   "metadata": {},
   "source": [
    "**22-Given a list in Python and provided the positions of the elements, write a program to swap the two elements in the list. (Input : List = [23, 65, 19, 90], pos1 = 1, pos2 = 3\n",
    "Output : [19, 65, 23, 90])"
   ]
  },
  {
   "cell_type": "code",
   "execution_count": null,
   "id": "225d8c6d",
   "metadata": {},
   "outputs": [
    {
     "name": "stdout",
     "output_type": "stream",
     "text": [
      "[19, 65, 23, 90]\n"
     ]
    }
   ],
   "source": [
    "List = [23,65,19,90]\n",
    "pos1 = 1\n",
    "pos2 = 3\n",
    "List[pos1-1], List[pos2-1] = List[pos2-1],List[pos1-1]\n",
    "print(List)"
   ]
  },
  {
   "cell_type": "markdown",
   "id": "66fc6682",
   "metadata": {},
   "source": [
    "**23- search for the all ways to know the length of the list"
   ]
  },
  {
   "cell_type": "markdown",
   "id": "da67320c",
   "metadata": {},
   "source": [
    "# method 1\n",
    "len(list)\n",
    "# method 2\n",
    "length = reduce(lambda x, y: x + 1, my_list, 0)\n",
    "# method 3 \n",
    "length = sum([1 for _ in my_list]) # list comprenhension \n",
    "# method 4\n",
    "Using for loop method (naive method)\n",
    "# method 5\n",
    "Using the length_hint() function.\n",
    "# method 6\n",
    "Using __len__() special function.\n",
    "# method 7\n",
    "Using the NumPy library. >>> np.size(list)\n",
    "# method 8 \n",
    "list_len = sum(1 for i in test_list)\n",
    "# method 9 \n",
    "recurcive function \n",
    "# method 10\n",
    "Enumerate func  >>> for i, a in enumerate(list1):\n"
   ]
  },
  {
   "cell_type": "markdown",
   "id": "518a2a0d",
   "metadata": {},
   "source": [
    "**24-write a Python code to find the Maximum number of list of numbers."
   ]
  },
  {
   "cell_type": "code",
   "execution_count": null,
   "id": "15f342de",
   "metadata": {},
   "outputs": [
    {
     "name": "stdout",
     "output_type": "stream",
     "text": [
      "78\n"
     ]
    }
   ],
   "source": [
    "numbers = [1 , 50 , 66 , 78]\n",
    "print(max(numbers))"
   ]
  },
  {
   "cell_type": "markdown",
   "id": "d3ade9ef",
   "metadata": {},
   "source": [
    "**25-write a Python code to find the Minimum number of list of numbers."
   ]
  },
  {
   "cell_type": "code",
   "execution_count": null,
   "id": "21f8cbd6",
   "metadata": {},
   "outputs": [
    {
     "name": "stdout",
     "output_type": "stream",
     "text": [
      "1\n"
     ]
    }
   ],
   "source": [
    "print(min(numbers))"
   ]
  },
  {
   "cell_type": "markdown",
   "id": "96822d96",
   "metadata": {},
   "source": [
    "**26-search for if an elem is existing in list"
   ]
  },
  {
   "cell_type": "code",
   "execution_count": null,
   "id": "50c28415",
   "metadata": {},
   "outputs": [
    {
     "name": "stdout",
     "output_type": "stream",
     "text": [
      "False, it doesn't exist in the list \n"
     ]
    }
   ],
   "source": [
    "num_str = [5 , 6 , 88, 787, 1000, 101, 0]\n",
    "IN = int(input (\"please enter search elem\"))\n",
    "if IN in num_str:\n",
    "    print(\"True it exists in the list\")\n",
    "else :\n",
    "    print(\"False, it doesn't exist in the list \")"
   ]
  },
  {
   "cell_type": "markdown",
   "id": "d9557da7",
   "metadata": {},
   "source": [
    "**27- clear python list using different ways"
   ]
  },
  {
   "cell_type": "code",
   "execution_count": null,
   "id": "b69858a3",
   "metadata": {},
   "outputs": [
    {
     "name": "stdout",
     "output_type": "stream",
     "text": [
      "[]\n"
     ]
    }
   ],
   "source": [
    "# method 1 >> using clear \n",
    "fruits = ['apple', 'grapes', 'grapes', 'banana', 'guava', 'grapes', 'banana']\n",
    "fruits.clear()\n",
    "print(fruits)"
   ]
  },
  {
   "cell_type": "code",
   "execution_count": null,
   "id": "72b6020a",
   "metadata": {},
   "outputs": [
    {
     "name": "stdout",
     "output_type": "stream",
     "text": [
      "[]\n"
     ]
    }
   ],
   "source": [
    "# method 2  >> reinitialzing list\n",
    "fruits = ['apple', 'grapes', 'grapes', 'banana', 'guava', 'grapes', 'banana']\n",
    "fruits = []\n",
    "print(fruits)"
   ]
  },
  {
   "cell_type": "code",
   "execution_count": null,
   "id": "fa9274be",
   "metadata": {},
   "outputs": [
    {
     "name": "stdout",
     "output_type": "stream",
     "text": [
      "[]\n"
     ]
    }
   ],
   "source": [
    "#method 3 >> using delete\n",
    "fruits = ['apple', 'grapes', 'grapes', 'banana', 'guava', 'grapes', 'banana']\n",
    "del fruits [ : ]\n",
    "print(fruits)"
   ]
  },
  {
   "cell_type": "code",
   "execution_count": null,
   "id": "2f052a89",
   "metadata": {},
   "outputs": [
    {
     "name": "stdout",
     "output_type": "stream",
     "text": [
      "[]\n"
     ]
    }
   ],
   "source": [
    "#method 4 >> using *0\n",
    "fruits = ['apple', 'grapes', 'grapes', 'banana', 'guava', 'grapes', 'banana']\n",
    "fruits*=0\n",
    "print(fruits)"
   ]
  },
  {
   "cell_type": "code",
   "execution_count": null,
   "id": "9207fe58",
   "metadata": {},
   "outputs": [
    {
     "name": "stdout",
     "output_type": "stream",
     "text": [
      "[]\n"
     ]
    }
   ],
   "source": [
    "# method 5 >> using pop\n",
    "fruits = ['apple', 'grapes', 'grapes', 'banana', 'guava', 'grapes', 'banana']\n",
    "while(len(fruits) != 0):\n",
    "    fruits.pop()\n",
    "print(fruits)"
   ]
  },
  {
   "cell_type": "code",
   "execution_count": null,
   "id": "9309e216",
   "metadata": {},
   "outputs": [
    {
     "name": "stdout",
     "output_type": "stream",
     "text": [
      "[]\n"
     ]
    }
   ],
   "source": [
    "# method 6 >> using slicing \n",
    "fruits = ['apple', 'grapes', 'grapes', 'banana', 'guava', 'grapes', 'banana']\n",
    "fruits = fruits[:0]\n",
    "print(fruits)"
   ]
  },
  {
   "cell_type": "markdown",
   "id": "52160e88",
   "metadata": {},
   "source": [
    "**28-remove duplicated elements from a list"
   ]
  },
  {
   "cell_type": "code",
   "execution_count": null,
   "id": "5e362228",
   "metadata": {},
   "outputs": [
    {
     "name": "stdout",
     "output_type": "stream",
     "text": [
      "['a', 'h', 'x', 'z']\n"
     ]
    }
   ],
   "source": [
    "my_list = ['a', 'h', 'a', 'x', 'z', 'h']\n",
    "my_list = list(dict.fromkeys(my_list))\n",
    "print(my_list)"
   ]
  },
  {
   "cell_type": "markdown",
   "id": "282337f7",
   "metadata": {},
   "source": [
    "**29-Given list values and keys list, convert these values to key value pairs in form of list of dictionaries. (Input : test_list = [“Gfg”, 3, “is”, 8], key_list = [“name”, “id”]\n",
    "Output : [{‘name’: ‘Gfg’, ‘id’: 3}, {‘name’: ‘is’, ‘id’: 8}])"
   ]
  },
  {
   "cell_type": "code",
   "execution_count": null,
   "id": "4d4e2d28",
   "metadata": {},
   "outputs": [
    {
     "name": "stdout",
     "output_type": "stream",
     "text": [
      "{'name': 'Gfg', 'id': 3}\n",
      "{'name': 'is', 'id': 8}\n"
     ]
    }
   ],
   "source": [
    "test_list = [\"Gfg\", 3, \"is\", 8]\n",
    "key_list = [\"name\", \"id\"]\n",
    "mydict0= {}\n",
    "mydict1= {}\n",
    "def list_dict_conver(list_in_keys,list_in_values):\n",
    "    dict0 = {}\n",
    "    for i in range(len(list_in_values)):\n",
    "        for j in range (len(list_in_keys)):\n",
    "            dict0[list_in_keys[j]]= list_in_values[j]\n",
    "    \n",
    "    return dict0 \n",
    "mydict0 = list_dict_conver(key_list,test_list[0:2])\n",
    "mydict1 = list_dict_conver(key_list,test_list[2:])\n",
    "\n",
    "print(mydict0)\n",
    "print(mydict1)"
   ]
  },
  {
   "cell_type": "markdown",
   "id": "c26b6e9f",
   "metadata": {},
   "source": [
    "**30-write a python program to count unique values inside a list using different ways"
   ]
  },
  {
   "cell_type": "code",
   "execution_count": null,
   "id": "72132667",
   "metadata": {},
   "outputs": [
    {
     "name": "stdout",
     "output_type": "stream",
     "text": [
      "unique values count =  5\n",
      "No of unique items are: 5\n",
      "No of unique items in the list are: 5\n"
     ]
    }
   ],
   "source": [
    "#method 1 \n",
    "input_List = [1, 2, 2, 5, 8, 4, 4, 8]\n",
    "unique_count = len(set(input_List))\n",
    "print(\"unique values count = \",unique_count)\n",
    "#method 2 \n",
    "L1 = []\n",
    "counter0 = 0\n",
    "for item in (input_List):\n",
    "    if item not in L1:\n",
    "        counter0 += 1\n",
    "        L1.append(item)\n",
    "print(\"No of unique items are:\", counter0)\n",
    "#method 3 \n",
    "from collections import Counter\n",
    "items = Counter(input_List).keys() # counter gets the keys of the list not duplicated, the values are random from the list\n",
    "print(\"No of unique items in the list are:\", len(items))\n"
   ]
  },
  {
   "cell_type": "markdown",
   "id": "fed6677c",
   "metadata": {},
   "source": [
    "**31-write a python program Extract all elements with Frequency greater than K (Input : test_list = [4, 6, 4, 3, 3, 4, 3, 4, 3, 8], K = 3 \n",
    "Output : [4, 3] )"
   ]
  },
  {
   "cell_type": "code",
   "execution_count": null,
   "id": "d81f3f9d",
   "metadata": {},
   "outputs": [
    {
     "name": "stdout",
     "output_type": "stream",
     "text": [
      "[3, 4]\n"
     ]
    }
   ],
   "source": [
    "test_list = [4, 6, 4, 3, 3, 4, 3, 4, 3, 8]\n",
    "K = 3\n",
    "output = []\n",
    "for item in (test_list):\n",
    "    if test_list.count(item) >=K:\n",
    "        output.append(item)\n",
    "print(list(set(output)))"
   ]
  },
  {
   "cell_type": "markdown",
   "id": "caca5224",
   "metadata": {},
   "source": [
    "**32-write a python program to find the Strongest Neighbour (Input: 1 2 2 3 4 5\n",
    "Output: 2 2 3 4 5)"
   ]
  },
  {
   "cell_type": "code",
   "execution_count": null,
   "id": "39fbd9b2",
   "metadata": {},
   "outputs": [
    {
     "data": {
      "text/plain": [
       "[2, 2, 3, 4, 5]"
      ]
     },
     "execution_count": 96,
     "metadata": {},
     "output_type": "execute_result"
    }
   ],
   "source": [
    "in_arr = [1,2,2,3,4,5]\n",
    "arr = []\n",
    "for i in range(len(in_arr)-1):\n",
    "    if in_arr[i] > in_arr[i+1]:\n",
    "        arr.append(in_arr[i])\n",
    "    else : \n",
    "        arr.append(in_arr[i+1])\n",
    "arr "
   ]
  },
  {
   "cell_type": "markdown",
   "id": "a9fa8baf",
   "metadata": {},
   "source": [
    "**33-write a Python Program to print all Possible Combinations from the three Digits (Input: [1, 2, 3]\n",
    "Output:\n",
    "1 2 3 ##\n",
    "1 3 2 ##\n",
    "2 1 3 ##\n",
    "2 3 1 ##\n",
    "3 1 2 ##\n",
    "3 2 1)"
   ]
  },
  {
   "cell_type": "code",
   "execution_count": null,
   "id": "8c520a76",
   "metadata": {},
   "outputs": [
    {
     "name": "stdout",
     "output_type": "stream",
     "text": [
      "1 2 3\n",
      "1 3 2\n",
      "2 1 3\n",
      "2 3 1\n",
      "3 1 2\n",
      "3 2 1\n"
     ]
    }
   ],
   "source": [
    "I = [1 , 2 , 3]\n",
    "length = len(I)\n",
    "for i in range (length):\n",
    "    for j in range (length):\n",
    "        for k in range(length):\n",
    "            if i!= j and j!=k and i!= k:\n",
    "                print(I[i],I[j],I[k]) "
   ]
  },
  {
   "cell_type": "markdown",
   "id": "5288bb89",
   "metadata": {},
   "source": [
    "**34-write a Python program to find all the Combinations in the list with the given condition (Input: test_list = [1,2,3] \n",
    "Output: \n",
    " [1], [1, 2], [1, 2, 3], [1, 3]\n",
    " [2], [2, 3], [3])"
   ]
  },
  {
   "cell_type": "code",
   "execution_count": null,
   "id": "59b89646",
   "metadata": {},
   "outputs": [
    {
     "name": "stdout",
     "output_type": "stream",
     "text": [
      "[(1,), (2,), (3,)]\n",
      "[(1, 2), (1, 3), (2, 3)]\n",
      "[(1, 2, 3)]\n"
     ]
    }
   ],
   "source": [
    "I = [1 , 2 , 3]\n",
    "length = len(I)\n",
    "from itertools import combinations\n",
    "for i in range(1,length+1):\n",
    "    out = (list(combinations(I, i)))\n",
    "    print(out)\n"
   ]
  },
  {
   "cell_type": "markdown",
   "id": "39973705",
   "metadata": {},
   "source": [
    "**35-write a Python program to get all unique combinations of two Lists (List_1 = [\"a\",\"b\"]\n",
    "List_2 = [1,2]\n",
    "Unique_combination = [[('a',1),('b',2)],[('a',2),('b',1)]] )"
   ]
  },
  {
   "cell_type": "code",
   "execution_count": null,
   "id": "8c4ba22b",
   "metadata": {},
   "outputs": [
    {
     "name": "stdout",
     "output_type": "stream",
     "text": [
      "[('a', 1), ('a', 2), ('b', 1), ('b', 2)]\n"
     ]
    }
   ],
   "source": [
    "list_1 = [\"a\", \"b\"]\n",
    "list_2 = [1, 2]\n",
    "unique_comb = []\n",
    "for i in range (len(list_1)):\n",
    "    for j in range (len(list_2)):\n",
    "        unique_comb.append((list_1[i] ,list_2[j]))\n",
    "print(unique_comb)"
   ]
  },
  {
   "cell_type": "markdown",
   "id": "25199af5",
   "metadata": {},
   "source": [
    "**36-Remove all the occurrences of an element from a list in Python (Input : 1 1 2 3 4 5 1 2 1 \n",
    "\n",
    "**Output : 2 3 4 5 2)"
   ]
  },
  {
   "cell_type": "code",
   "execution_count": null,
   "id": "6dc4c2ba",
   "metadata": {},
   "outputs": [
    {
     "name": "stdout",
     "output_type": "stream",
     "text": [
      "['1', '1', '2', '3', '4', '5', '1', '2', '1']\n",
      "['2', '3', '4', '5', '2']\n"
     ]
    }
   ],
   "source": [
    "num_input = input(\"please enter numbers: \")\n",
    "num_input = list(num_input.replace(\" \", \"\"))\n",
    "print(num_input)\n",
    "element_to_remove = input(\"please enter element to remove\")\n",
    "num_input = [i for i in num_input if (i != element_to_remove)] # list comprehension \n",
    "print(num_input)\n",
    "#for i in range(len(num_input)):\n",
    "\n",
    "    \n"
   ]
  },
  {
   "cell_type": "markdown",
   "id": "bf1a3c93",
   "metadata": {},
   "source": [
    "**37-write a python program to Replace index elements with elements in Other List (The original list 1 is : [‘Gfg’, ‘is’, ‘best’] The original list 2 is : [0, 1, 2, 1, 0, 0, 0, 2, 1, 1, 2, 0] The lists after index elements replacements is : [‘Gfg’, ‘is’, ‘best’, ‘is’, ‘Gfg’, ‘Gfg’, ‘Gfg’, ‘best’, ‘is’, ‘is’, ‘best’, ‘Gfg’])"
   ]
  },
  {
   "cell_type": "code",
   "execution_count": null,
   "id": "fdd66a71",
   "metadata": {},
   "outputs": [
    {
     "name": "stdout",
     "output_type": "stream",
     "text": [
      "['Gfg', 'is', 'best', 'is', 'Gfg', 'Gfg', 'Gfg', 'best', 'is', 'is', 'best', 'Gfg']\n"
     ]
    }
   ],
   "source": [
    "orglist1 = ['Gfg', 'is', 'best']\n",
    "orglist2 = [0, 1, 2, 1, 0, 0, 0, 2, 1, 1, 2, 0]\n",
    "for i,element in enumerate(orglist2):\n",
    "    orglist2[i] = orglist1[element]\n",
    "print(orglist2)"
   ]
  },
  {
   "cell_type": "markdown",
   "id": "af0f56e8",
   "metadata": {},
   "source": [
    "**38- write python program to Retain records with N occurrences of K(Input : test_list = [(4, 5, 5, 4), (5, 4, 3)], K = 5, N = 2 \n",
    "Output : [(4, 5, 5, 4)]\n",
    "Input : test_list = [(4, 5, 5, 4), (5, 4, 3)], K = 5, N = 3 \n",
    "Output : [] )"
   ]
  },
  {
   "cell_type": "code",
   "execution_count": null,
   "id": "67b06671",
   "metadata": {},
   "outputs": [
    {
     "name": "stdout",
     "output_type": "stream",
     "text": [
      "(4, 5, 5, 4)\n"
     ]
    }
   ],
   "source": [
    "test_list = [(4, 5, 5, 4), (5, 4, 3)]\n",
    "K = 5\n",
    "N = 2\n",
    "#K = 5, N = 3\n",
    "L = len(test_list) \n",
    "for i in range(L):\n",
    "    if test_list[i].count(K) == N :\n",
    "        print(test_list[i])"
   ]
  },
  {
   "cell_type": "markdown",
   "id": "de76f183",
   "metadata": {},
   "source": [
    "**39-write a Python Program to Sort the list according to the column using lambda\n",
    "array = [[1, 3, 3], [2, 1, 2], [3, 2, 1]]\n",
    "Output :\n",
    "Sorted array specific to column 0, [[1, 3, 3], [2, 1, 2], [3, 2, 1]]\n",
    "Sorted array specific to column 1, [[2, 1, 2], [3, 2, 1], [1, 3, 3]]\n",
    "Sorted array specific to column 2, [[3, 2, 1], [2, 1, 2], [1, 3, 3]]"
   ]
  },
  {
   "cell_type": "code",
   "execution_count": null,
   "id": "dc883308",
   "metadata": {},
   "outputs": [
    {
     "name": "stdout",
     "output_type": "stream",
     "text": [
      "[[1, 3, 3], [2, 1, 2], [3, 2, 1]]\n",
      "[[2, 1, 2], [3, 2, 1], [1, 3, 3]]\n",
      "[[3, 2, 1], [2, 1, 2], [1, 3, 3]]\n"
     ]
    }
   ],
   "source": [
    "array = [[1, 3, 3], [2, 1, 2], [3, 2, 1]]\n",
    "def sort_by_col(array,colnum):\n",
    "    arr_len = len(array)\n",
    "    for i in range (arr_len):\n",
    "        for j in range(len(array[i])):\n",
    "            if j == colnum and (i+1)!=arr_len:\n",
    "                if array[i][j] > array[i+1][j]:\n",
    "                    array[i],array[i+1] = array[i+1],array[i]\n",
    "    return print(array)\n",
    "\n",
    "for i in range (3):\n",
    "    sort_by_col(array,i)"
   ]
  },
  {
   "cell_type": "markdown",
   "id": "04d24dac",
   "metadata": {},
   "source": [
    "**40- write a program to Sort Python Dictionaries by Key or Value\n",
    "Input:\n",
    "{'ravi': 10, 'rajnish': 9, 'sanjeev': 15, 'yash': 2, 'suraj': 32}\n",
    "Output: \n",
    "{'rajnish': 9, 'ravi': 10, 'sanjeev': 15, 'suraj': 32, 'yash': 2}"
   ]
  },
  {
   "cell_type": "code",
   "execution_count": null,
   "id": "a96db4a0",
   "metadata": {},
   "outputs": [
    {
     "name": "stdout",
     "output_type": "stream",
     "text": [
      "{'rajnish': 9, 'ravi': 10, 'sanjeev': 15, 'suraj': 32, 'yash': 2}\n"
     ]
    }
   ],
   "source": [
    "name_age = {'ravi': 10, 'rajnish': 9, 'sanjeev': 15, 'yash': 2, 'suraj': 32}\n",
    "key_value_select = input(\"please enter key or value to sort by: \")\n",
    "if key_value_select == 'key':\n",
    "    sorted_name_age_list_byKey= sorted(name_age.items())\n",
    "    sorted_dict = {}\n",
    "    for key,value in sorted_name_age_list_byKey:\n",
    "        sorted_dict[key] = value \n",
    "    print(sorted_dict)\n",
    "elif key_value_select == 'value':\n",
    "    sorted_name_age_byValue= sorted(name_age.items(), key=lambda x:x[1])\n",
    "    print(sorted_name_age_byValue)"
   ]
  },
  {
   "cell_type": "markdown",
   "id": "ec63c23a",
   "metadata": {},
   "source": [
    "**41-write python program to Remove keys with Values Greater than K ( Including mixed values )\n",
    "nput : test_dict = {‘Gfg’ : 3, ‘is’ : 7, ‘best’ : 10, ‘for’ : 6, ‘geeks’ : ‘CS’},\n",
    "K = 7 \n",
    "Output : {‘Gfg’ : 3, ‘for’ : 6, ‘geeks’ : ‘CS’}"
   ]
  },
  {
   "cell_type": "code",
   "execution_count": null,
   "id": "e39c3a40",
   "metadata": {},
   "outputs": [
    {
     "name": "stdout",
     "output_type": "stream",
     "text": [
      "{'Gfg': 3, 'is': 7, 'best': 10, 'for': 6, 'geeks': 'CS'}\n",
      "{'Gfg': 3, 'for': 6, 'geeks': 'CS'}\n"
     ]
    }
   ],
   "source": [
    "test_dict = {\"Gfg\" : 3, \"is\" : 7, \"best\" : 10, \"for\" : 6, \"geeks\" : \"CS\"}\n",
    "K = 7 \n",
    "out_dict = {}\n",
    "for key in (test_dict):\n",
    "        if isinstance(test_dict[key],int):\n",
    "            if test_dict[key] < K:\n",
    "                out_dict[key] = test_dict[key]\n",
    "        else : \n",
    "             out_dict[key] = test_dict[key]\n",
    "print(test_dict)\n",
    "print(out_dict)"
   ]
  },
  {
   "cell_type": "markdown",
   "id": "f143f0fe",
   "metadata": {},
   "source": [
    "**42-Write a Python program to concatenate the following dictionaries to create a new one\n",
    "\n",
    "Sample Dictionary :\n",
    "dic1={1:10, 2:20}\n",
    "dic2={3:30, 4:40}\n",
    "dic3={5:50,6:60}\n",
    "Expected Result : {1: 10, 2: 20, 3: 30, 4: 40, 5: 50, 6: 60}"
   ]
  },
  {
   "cell_type": "code",
   "execution_count": null,
   "id": "74ffdfea",
   "metadata": {},
   "outputs": [
    {
     "name": "stdout",
     "output_type": "stream",
     "text": [
      "{1: 10, 2: 20, 3: 30, 4: 40, 5: 50, 6: 60}\n"
     ]
    }
   ],
   "source": [
    "dic1={1:10, 2:20}\n",
    "dic2={3:30, 4:40}\n",
    "dic3={5:50,6:60}\n",
    "#################\n",
    "dall = dict(dic1)\n",
    "dall.update(dic2)\n",
    "dall.update(dic3)\n",
    "print(dall)"
   ]
  },
  {
   "cell_type": "markdown",
   "id": "fb04c93c",
   "metadata": {},
   "source": [
    "**43-Write a Python program to iterate over dictionaries using for loops"
   ]
  },
  {
   "cell_type": "code",
   "execution_count": null,
   "id": "6aebc470",
   "metadata": {},
   "outputs": [
    {
     "name": "stdout",
     "output_type": "stream",
     "text": [
      "key =  x : value =  1\n",
      "key =  y : value =  2\n",
      "key =  z : value =  3\n"
     ]
    }
   ],
   "source": [
    "d = {'x': 1, 'y': 2, 'z': 3} \n",
    "for key, value in d.items():\n",
    "#for key, value in enumerate(d.items()):\n",
    "    print(\"key = \",key,\":\", \"value = \",value )\n"
   ]
  },
  {
   "cell_type": "markdown",
   "id": "5f491a9d",
   "metadata": {},
   "source": [
    "**44- Write a Python script to merge two Python dictionaries"
   ]
  },
  {
   "cell_type": "code",
   "execution_count": null,
   "id": "b8a14028",
   "metadata": {},
   "outputs": [
    {
     "name": "stdout",
     "output_type": "stream",
     "text": [
      "{'x': 10, 'y': 8, 'a': 6, 'b': 4}\n"
     ]
    }
   ],
   "source": [
    "def merge(d1,d2):\n",
    "    res = d1 | d2 \n",
    "    return res\n",
    "dict1 = {'x': 10, 'y': 8} \n",
    "dict2 = {'a': 6, 'b': 4} \n",
    "dictall = merge(dict1,dict2)\n",
    "print(dictall)"
   ]
  },
  {
   "cell_type": "markdown",
   "id": "216fc72d",
   "metadata": {},
   "source": [
    "**45-Write a Python program to get the maximum and minimum values of a dictionary values"
   ]
  },
  {
   "cell_type": "code",
   "execution_count": null,
   "id": "d6883f5f",
   "metadata": {},
   "outputs": [
    {
     "name": "stdout",
     "output_type": "stream",
     "text": [
      "maximum =  10 minimum = 4\n"
     ]
    }
   ],
   "source": [
    "dic = {'x': 10, 'y': 8, 'a': 6, 'b': 4}\n",
    "val = dic.values()\n",
    "print(\"maximum = \", max(val) ,\"minimum = \", min(val))"
   ]
  },
  {
   "cell_type": "markdown",
   "id": "b6a53011",
   "metadata": {},
   "source": [
    "**46- Write a Python program to drop empty items from a given dictionary.\n",
    "Original Dictionary:\n",
    "{'c1': 'Red', 'c2': 'Green', 'c3': None}\n",
    "New Dictionary after dropping empty items:\n",
    "{'c1': 'Red', 'c2': 'Green'}"
   ]
  },
  {
   "cell_type": "code",
   "execution_count": null,
   "id": "b5c6fecf",
   "metadata": {},
   "outputs": [
    {
     "name": "stdout",
     "output_type": "stream",
     "text": [
      "{'c1': 'Red', 'c2': 'Green'}\n"
     ]
    }
   ],
   "source": [
    "org_dict = {'c1': 'Red', 'c2': 'Green', 'c3': None}\n",
    "new_dict = {}\n",
    "for key,value in org_dict.items():\n",
    "    if value != None :\n",
    "        new_dict[key] = value\n",
    "print(new_dict)    \n"
   ]
  },
  {
   "cell_type": "markdown",
   "id": "46d718c7",
   "metadata": {},
   "source": [
    "**47-Write a Python program to create a tuple of numbers and print one item"
   ]
  },
  {
   "cell_type": "code",
   "execution_count": null,
   "id": "13216ff5",
   "metadata": {},
   "outputs": [
    {
     "name": "stdout",
     "output_type": "stream",
     "text": [
      "(55, 8, 9, 774, 10)\n",
      "selected tuple item =  9\n"
     ]
    }
   ],
   "source": [
    "list_tmp = []\n",
    "for i in range(5):\n",
    "    List_item = int(input(\"please enter numbers \"))\n",
    "    list_tmp.append(List_item)\n",
    "\n",
    "tupl = tuple(list_tmp)\n",
    "print(tupl)\n",
    "num_to_print =int(input(\"please enter num to print\"))\n",
    "print(\"selected tuple item = \",tupl[num_to_print])"
   ]
  },
  {
   "cell_type": "markdown",
   "id": "2be5b56b",
   "metadata": {},
   "source": [
    "**48-Write a Python program to unpack a tuple into several variables"
   ]
  },
  {
   "cell_type": "code",
   "execution_count": null,
   "id": "595f44be",
   "metadata": {},
   "outputs": [
    {
     "name": "stdout",
     "output_type": "stream",
     "text": [
      "11\n",
      "2\n",
      "h\n",
      "6\n",
      "8\n",
      "k\n"
     ]
    }
   ],
   "source": [
    "tupTOunpack = (11, 2 , 'h', 6 , 8 , 'k')\n",
    "for k in range(len(tupTOunpack)):\n",
    "    exec(f'cat_{k} = tupTOunpack[k]')\n",
    "    exec(f'print(cat_{k})')\n"
   ]
  },
  {
   "cell_type": "markdown",
   "id": "392388a7",
   "metadata": {},
   "source": [
    "**49-Write a Python program to add an item to a tuple"
   ]
  },
  {
   "cell_type": "code",
   "execution_count": null,
   "id": "54cc092e",
   "metadata": {},
   "outputs": [
    {
     "name": "stdout",
     "output_type": "stream",
     "text": [
      "(11, 2, 'h', 6, 8, 'k', 10)\n"
     ]
    }
   ],
   "source": [
    "tupTOunpack = (11, 2 , 'h', 6 , 8 , 'k')\n",
    "item0 = 10\n",
    "lis = [item0]\n",
    "tupall = tupTOunpack + tuple(lis)\n",
    "print(tupall)"
   ]
  },
  {
   "cell_type": "markdown",
   "id": "3e8fd124",
   "metadata": {},
   "source": [
    "**50-Write a Python program to convert a tuple to a string"
   ]
  },
  {
   "cell_type": "code",
   "execution_count": null,
   "id": "92a71ddc",
   "metadata": {},
   "outputs": [
    {
     "name": "stdout",
     "output_type": "stream",
     "text": [
      "here we go !!\n"
     ]
    }
   ],
   "source": [
    "myTuple = ('here','we', 'go', '!!')\n",
    "my_list = [i for i in myTuple]\n",
    "str00 = \" \".join( my_list)\n",
    "print(str00)"
   ]
  },
  {
   "cell_type": "markdown",
   "id": "f4f64ef4",
   "metadata": {},
   "source": [
    "**51-Write a Python program to convert a list to a tuple"
   ]
  },
  {
   "cell_type": "code",
   "execution_count": null,
   "id": "210d56d3",
   "metadata": {},
   "outputs": [
    {
     "name": "stdout",
     "output_type": "stream",
     "text": [
      "(1, 5, 4, 2, 8)\n"
     ]
    }
   ],
   "source": [
    "myList = [1 , 5 , 4 , 2, 8]\n",
    "tup = tuple(myList)\n",
    "print(tup)"
   ]
  },
  {
   "cell_type": "markdown",
   "id": "b1e00ef7",
   "metadata": {},
   "source": [
    "**52-Write a Python program to reverse a tuple"
   ]
  },
  {
   "cell_type": "code",
   "execution_count": null,
   "id": "f45bfdc7",
   "metadata": {},
   "outputs": [
    {
     "name": "stdout",
     "output_type": "stream",
     "text": [
      "tuple before reverse =  (2, 4, 5, 7, 8, 10)\n",
      "tuple after reverse  = (10, 8, 7, 5, 4, 2)\n"
     ]
    }
   ],
   "source": [
    "tup = (2, 4, 5, 7, 8, 10)\n",
    "lis00 = [i for i in tup]\n",
    "lis_reverse= lis00.reverse()\n",
    "print(\"tuple before reverse = \", tup)\n",
    "print(\"tuple after reverse  =\",tuple(lis00))"
   ]
  },
  {
   "cell_type": "markdown",
   "id": "3cd347d1",
   "metadata": {},
   "source": [
    "**53-Write a Python program to replace the last value of tuples in a list.\n",
    "Sample list: [(10, 20, 40), (40, 50, 60), (70, 80, 90)]\n",
    "Expected Output: [(10, 20, 100), (40, 50, 100), (70, 80, 100)]"
   ]
  },
  {
   "cell_type": "code",
   "execution_count": null,
   "id": "3c4a2a4c",
   "metadata": {},
   "outputs": [
    {
     "name": "stdout",
     "output_type": "stream",
     "text": [
      "[(10, 20, 100), (40, 50, 100), (70, 80, 100)]\n"
     ]
    }
   ],
   "source": [
    "sample_list= [(10, 20, 40), (40, 50, 60), (70, 80, 90)]\n",
    "length = len(sample_list)\n",
    "lisTMP = tuple()\n",
    "lis0T = tuple()\n",
    "lis1T = tuple()\n",
    "lis2T = tuple()\n",
    "listall = []\n",
    "val = 100\n",
    "tupall = ()\n",
    "#tupl0 ,tupl1 ,tupl2 = zip(*sample_list)\n",
    "#print(tupl0 ,tupl1 ,tupl2)\n",
    "for i in range(length):\n",
    "    for j in range (len(sample_list[i])):\n",
    "        if (j+1)%3 == 0:\n",
    "            lisTMP = lisTMP +  (val,)                ###### concatenate a tuple with one element >>> (value,) سبحان الله\n",
    "        else:\n",
    "            x = (sample_list[i][j],) \n",
    "            lisTMP = lisTMP + x\n",
    "    listall.append(lisTMP)\n",
    "    lisTMP = ()\n",
    "print(listall)\n"
   ]
  },
  {
   "cell_type": "code",
   "execution_count": null,
   "id": "a922236a",
   "metadata": {},
   "outputs": [
    {
     "name": "stdout",
     "output_type": "stream",
     "text": [
      "(2, 3, 5, 4, 7, 7, 8)\n"
     ]
    }
   ],
   "source": [
    "from itertools import islice\n",
    "L = [(1,2),(2,3),(4,5),(3,4),(6,7),(6,7),(3,8)]\n",
    "\n",
    "res = next(islice(zip(*L), 1, None))\n",
    "print(res)"
   ]
  },
  {
   "cell_type": "markdown",
   "id": "76bb7b39",
   "metadata": {},
   "source": [
    "**54-Write a Python program to convert a given string list to a tuple\n",
    "Original string: python 3.0\n",
    "<class 'str'>\n",
    "Convert the said string to a tuple:\n",
    "('p', 'y', 't', 'h', 'o', 'n', '3', '.', '0')"
   ]
  },
  {
   "cell_type": "code",
   "execution_count": null,
   "id": "51951937",
   "metadata": {},
   "outputs": [
    {
     "name": "stdout",
     "output_type": "stream",
     "text": [
      "<class 'str'>\n",
      "('p', 'y', 't', 'h', 'o', 'n', '3', '.', '0')\n"
     ]
    }
   ],
   "source": [
    "string0 = \"python 3.0\"\n",
    "print(type(string0))\n",
    "listOFstring0 = tuple(string0.replace(' ',''))\n",
    "print(listOFstring0)"
   ]
  },
  {
   "cell_type": "markdown",
   "id": "5a1d5d97",
   "metadata": {},
   "source": [
    "**55-Write a Python program to calculate the average value of the numbers in a given tuple of tuples"
   ]
  },
  {
   "cell_type": "code",
   "execution_count": null,
   "id": "834e7992",
   "metadata": {},
   "outputs": [
    {
     "name": "stdout",
     "output_type": "stream",
     "text": [
      "(30.0, 18.5, 40.0, 90.0)\n"
     ]
    }
   ],
   "source": [
    "mytuple = ((20, 40), (18, 19),(20, 60),(80, 100))\n",
    "avr_tupl = tuple()\n",
    "length = len(mytuple) \n",
    "lenSEC = len(mytuple[0])\n",
    "sum = 0 \n",
    "avrg = 0.0\n",
    "for i in range(length):\n",
    "    for j in range(lenSEC):\n",
    "        sum  = sum +mytuple[i][j] \n",
    "    avrg = (sum)/ lenSEC\n",
    "    avr_tupl = avr_tupl + (avrg,)\n",
    "    sum = 0\n",
    "print(avr_tupl)\n",
    "\n"
   ]
  },
  {
   "cell_type": "markdown",
   "id": "51edab9c",
   "metadata": {},
   "source": [
    "**56-Write a Python program to add member(s) to a set."
   ]
  },
  {
   "cell_type": "code",
   "execution_count": null,
   "id": "2b65df79",
   "metadata": {},
   "outputs": [
    {
     "name": "stdout",
     "output_type": "stream",
     "text": [
      "{'apple', 'pineapple', 'papaya', 'mango', 'orange', 'cherry', 'banana'}\n"
     ]
    }
   ],
   "source": [
    "thisset = {\"apple\", \"banana\", \"cherry\"}\n",
    "tropical = {\"pineapple\", \"mango\", \"papaya\"}\n",
    "thisset.add('orange')\n",
    "thisset.update(tropical)\n",
    "print(thisset)"
   ]
  },
  {
   "cell_type": "markdown",
   "id": "965590cc",
   "metadata": {},
   "source": [
    "**57-Write a Python program to remove an item from a set if it is present in the set."
   ]
  },
  {
   "cell_type": "code",
   "execution_count": null,
   "id": "866bab28",
   "metadata": {},
   "outputs": [
    {
     "name": "stdout",
     "output_type": "stream",
     "text": [
      "{'pineapple', 'papaya', 'cherry', 'mango', 'banana'}\n"
     ]
    }
   ],
   "source": [
    "fruits = {\"apple\", \"banana\", \"cherry\",\"pineapple\", \"mango\", \"papaya\"}\n",
    "item = \"apple\" #\"guava\"\n",
    "for i in range(len(fruits)):\n",
    "    if item in fruits:\n",
    "        fruits.remove(item)\n",
    "print(fruits)\n",
    "\n"
   ]
  },
  {
   "cell_type": "markdown",
   "id": "2b7cfed1",
   "metadata": {},
   "source": [
    "**58-Write a Python program to create an intersection,union,difference and symmetric difference of sets"
   ]
  },
  {
   "cell_type": "code",
   "execution_count": null,
   "id": "7f94b7fe",
   "metadata": {},
   "outputs": [
    {
     "name": "stdout",
     "output_type": "stream",
     "text": [
      "intersection =  {2, 3, 7}\n",
      "union =  {1, 2, 3, 4, 5, 6, 7, 8}\n",
      "difference =  {8, 5, 6}\n",
      "symmetric_difference =  {1, 4, 5, 6, 8}\n"
     ]
    }
   ],
   "source": [
    "a = {7, 2, 3, 8 , 5, 6}\n",
    "b = {2, 3, 7, 1, 4}\n",
    "\n",
    "Intersection = a.intersection(b)\n",
    "print(\"intersection = \", Intersection)\n",
    "Union = a.union(b)\n",
    "print(\"union = \", Union)\n",
    "Diffrenece = a.difference(b)\n",
    "print(\"difference = \", Diffrenece)\n",
    "sym_Diffrenece = a.symmetric_difference(b)\n",
    "print(\"symmetric_difference = \", sym_Diffrenece)"
   ]
  },
  {
   "cell_type": "markdown",
   "id": "b94931e2",
   "metadata": {},
   "source": [
    "**59-Write a Python program to find the maximum and minimum values in a set"
   ]
  },
  {
   "cell_type": "code",
   "execution_count": null,
   "id": "203f9600",
   "metadata": {},
   "outputs": [
    {
     "name": "stdout",
     "output_type": "stream",
     "text": [
      "maximum of set =  65\n",
      "minimum of set =  1\n"
     ]
    }
   ],
   "source": [
    "h = {8, 16, 24, 1, 25, 3, 10, 65, 55}\n",
    "print(\"maximum of set = \", max(h))\n",
    "print(\"minimum of set = \", min(h))\n"
   ]
  },
  {
   "cell_type": "markdown",
   "id": "255fd554",
   "metadata": {},
   "source": [
    "**60- Write a Python program that finds all pairs of elements in a list whose sum is equal to a given value."
   ]
  },
  {
   "cell_type": "code",
   "execution_count": null,
   "id": "c2d94e1f",
   "metadata": {},
   "outputs": [
    {
     "name": "stdout",
     "output_type": "stream",
     "text": [
      "pairs are = [0,4]\n",
      "pairs are = [1,3]\n",
      "pairs are = [2,2]\n",
      "pairs are = [3,1]\n",
      "pairs are = [4,0]\n"
     ]
    }
   ],
   "source": [
    "x = [0,1,2,3,4,5,6,7,8,9,10]\n",
    "sum_val = 4\n",
    "for i in range(len(x)):\n",
    "    pair = sum_val-x[i]\n",
    "    if (pair) in x:\n",
    "        print(f\"pairs are = [{x[i]},{pair}]\")\n"
   ]
  }
 ],
 "metadata": {
  "kernelspec": {
   "display_name": "Python 3 (ipykernel)",
   "language": "python",
   "name": "python3"
  },
  "language_info": {
   "codemirror_mode": {
    "name": "ipython",
    "version": 3
   },
   "file_extension": ".py",
   "mimetype": "text/x-python",
   "name": "python",
   "nbconvert_exporter": "python",
   "pygments_lexer": "ipython3",
   "version": "3.11.7"
  }
 },
 "nbformat": 4,
 "nbformat_minor": 5
}
